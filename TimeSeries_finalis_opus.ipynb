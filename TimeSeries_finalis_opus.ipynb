{
  "nbformat": 4,
  "nbformat_minor": 0,
  "metadata": {
    "colab": {
      "provenance": []
    },
    "kernelspec": {
      "name": "python3",
      "display_name": "Python 3"
    },
    "language_info": {
      "name": "python"
    }
  },
  "cells": [
    {
      "cell_type": "markdown",
      "source": [
        "# Aprendizaje supervisado aplicado a series de tiempo"
      ],
      "metadata": {
        "id": "wPY8NH-tp1_-"
      }
    },
    {
      "cell_type": "code",
      "execution_count": 1,
      "metadata": {
        "id": "_0HTmyR7pmcx"
      },
      "outputs": [],
      "source": [
        "import numpy as np\n",
        "import pandas as pd\n",
        "import statsmodels.api as sm\n",
        "import matplotlib.pyplot as plt"
      ]
    },
    {
      "cell_type": "code",
      "source": [
        "! git clone https://github.com/ijrios/database_finalis_opus.git\n",
        "! git clone https://github.com/ijrios/databases_train_finalis_opus.git\n",
        "! git clone https://github.com/ijrios/database_test_finalis_opus.git"
      ],
      "metadata": {
        "colab": {
          "base_uri": "https://localhost:8080/"
        },
        "id": "fr_ur0tDwuPG",
        "outputId": "0bc25953-9608-4c86-87a7-6af7a2860d37"
      },
      "execution_count": 2,
      "outputs": [
        {
          "output_type": "stream",
          "name": "stdout",
          "text": [
            "fatal: destination path 'database_finalis_opus' already exists and is not an empty directory.\n",
            "fatal: destination path 'databases_train_finalis_opus' already exists and is not an empty directory.\n",
            "fatal: destination path 'database_test_finalis_opus' already exists and is not an empty directory.\n"
          ]
        }
      ]
    },
    {
      "cell_type": "code",
      "source": [
        "pip install rarfile"
      ],
      "metadata": {
        "colab": {
          "base_uri": "https://localhost:8080/"
        },
        "id": "TMeRCib3x-8k",
        "outputId": "bcb6bd64-c522-4c6f-ed4c-5a560e45ecfa"
      },
      "execution_count": 3,
      "outputs": [
        {
          "output_type": "stream",
          "name": "stdout",
          "text": [
            "Looking in indexes: https://pypi.org/simple, https://us-python.pkg.dev/colab-wheels/public/simple/\n",
            "Requirement already satisfied: rarfile in /usr/local/lib/python3.10/dist-packages (4.0)\n"
          ]
        }
      ]
    },
    {
      "cell_type": "code",
      "source": [
        "import rarfile\n",
        "\n",
        "def descomprimir_rar(ruta_archivo_rar, ruta_destino):\n",
        "    with rarfile.RarFile(ruta_archivo_rar) as rf:\n",
        "        rf.extractall(ruta_destino)"
      ],
      "metadata": {
        "id": "4-zQpSNdxzuj"
      },
      "execution_count": 4,
      "outputs": []
    },
    {
      "cell_type": "code",
      "source": [
        "# Descomprimiendo archivos\n",
        "ruta_archivo_rar = '/content/database_finalis_opus/holidays_events.rar'\n",
        "ruta_destino = '/content/database_finalis_opus'\n",
        "\n",
        "ruta_archivo_rar_duo = '/content/database_test_finalis_opus/test.rar'\n",
        "ruta_destino_duo = '/content/database_test_finalis_opus'\n",
        "\n",
        "ruta_archivo_rar_tris = '/content/databases_train_finalis_opus/train_database.rar'\n",
        "ruta_destino_tris = '/content/databases_train_finalis_opus'\n",
        "\n",
        "descomprimir_rar(ruta_archivo_rar, ruta_destino)\n",
        "descomprimir_rar(ruta_archivo_rar_duo, ruta_destino_duo)\n",
        "descomprimir_rar(ruta_archivo_rar_tris, ruta_destino_tris)"
      ],
      "metadata": {
        "id": "5sgi9vcDyRNM"
      },
      "execution_count": 5,
      "outputs": []
    },
    {
      "cell_type": "code",
      "source": [
        "from pandas import read_csv\n",
        "# load the dataset\n",
        "dataframe = read_csv('/content/database_finalis_opus/holidays_events.csv')\n",
        "data_test = read_csv('/content/database_test_finalis_opus/test.csv')\n",
        "data_train = read_csv('/content/databases_train_finalis_opus/train.csv')"
      ],
      "metadata": {
        "id": "zUltgfxxy0Zc"
      },
      "execution_count": 6,
      "outputs": []
    },
    {
      "cell_type": "code",
      "source": [
        "data_test"
      ],
      "metadata": {
        "colab": {
          "base_uri": "https://localhost:8080/",
          "height": 423
        },
        "id": "uRMRBl1fzV24",
        "outputId": "4e6f3444-5703-4449-a452-6c94e272cf39"
      },
      "execution_count": 7,
      "outputs": [
        {
          "output_type": "execute_result",
          "data": {
            "text/plain": [
              "            id        date  store_nbr                      family  onpromotion\n",
              "0      3000888  2017-08-16          1                  AUTOMOTIVE            0\n",
              "1      3000889  2017-08-16          1                   BABY CARE            0\n",
              "2      3000890  2017-08-16          1                      BEAUTY            2\n",
              "3      3000891  2017-08-16          1                   BEVERAGES           20\n",
              "4      3000892  2017-08-16          1                       BOOKS            0\n",
              "...        ...         ...        ...                         ...          ...\n",
              "28507  3029395  2017-08-31          9                     POULTRY            1\n",
              "28508  3029396  2017-08-31          9              PREPARED FOODS            0\n",
              "28509  3029397  2017-08-31          9                     PRODUCE            1\n",
              "28510  3029398  2017-08-31          9  SCHOOL AND OFFICE SUPPLIES            9\n",
              "28511  3029399  2017-08-31          9                     SEAFOOD            0\n",
              "\n",
              "[28512 rows x 5 columns]"
            ],
            "text/html": [
              "\n",
              "  <div id=\"df-227d3441-8e10-423b-8478-e46c9772cab6\">\n",
              "    <div class=\"colab-df-container\">\n",
              "      <div>\n",
              "<style scoped>\n",
              "    .dataframe tbody tr th:only-of-type {\n",
              "        vertical-align: middle;\n",
              "    }\n",
              "\n",
              "    .dataframe tbody tr th {\n",
              "        vertical-align: top;\n",
              "    }\n",
              "\n",
              "    .dataframe thead th {\n",
              "        text-align: right;\n",
              "    }\n",
              "</style>\n",
              "<table border=\"1\" class=\"dataframe\">\n",
              "  <thead>\n",
              "    <tr style=\"text-align: right;\">\n",
              "      <th></th>\n",
              "      <th>id</th>\n",
              "      <th>date</th>\n",
              "      <th>store_nbr</th>\n",
              "      <th>family</th>\n",
              "      <th>onpromotion</th>\n",
              "    </tr>\n",
              "  </thead>\n",
              "  <tbody>\n",
              "    <tr>\n",
              "      <th>0</th>\n",
              "      <td>3000888</td>\n",
              "      <td>2017-08-16</td>\n",
              "      <td>1</td>\n",
              "      <td>AUTOMOTIVE</td>\n",
              "      <td>0</td>\n",
              "    </tr>\n",
              "    <tr>\n",
              "      <th>1</th>\n",
              "      <td>3000889</td>\n",
              "      <td>2017-08-16</td>\n",
              "      <td>1</td>\n",
              "      <td>BABY CARE</td>\n",
              "      <td>0</td>\n",
              "    </tr>\n",
              "    <tr>\n",
              "      <th>2</th>\n",
              "      <td>3000890</td>\n",
              "      <td>2017-08-16</td>\n",
              "      <td>1</td>\n",
              "      <td>BEAUTY</td>\n",
              "      <td>2</td>\n",
              "    </tr>\n",
              "    <tr>\n",
              "      <th>3</th>\n",
              "      <td>3000891</td>\n",
              "      <td>2017-08-16</td>\n",
              "      <td>1</td>\n",
              "      <td>BEVERAGES</td>\n",
              "      <td>20</td>\n",
              "    </tr>\n",
              "    <tr>\n",
              "      <th>4</th>\n",
              "      <td>3000892</td>\n",
              "      <td>2017-08-16</td>\n",
              "      <td>1</td>\n",
              "      <td>BOOKS</td>\n",
              "      <td>0</td>\n",
              "    </tr>\n",
              "    <tr>\n",
              "      <th>...</th>\n",
              "      <td>...</td>\n",
              "      <td>...</td>\n",
              "      <td>...</td>\n",
              "      <td>...</td>\n",
              "      <td>...</td>\n",
              "    </tr>\n",
              "    <tr>\n",
              "      <th>28507</th>\n",
              "      <td>3029395</td>\n",
              "      <td>2017-08-31</td>\n",
              "      <td>9</td>\n",
              "      <td>POULTRY</td>\n",
              "      <td>1</td>\n",
              "    </tr>\n",
              "    <tr>\n",
              "      <th>28508</th>\n",
              "      <td>3029396</td>\n",
              "      <td>2017-08-31</td>\n",
              "      <td>9</td>\n",
              "      <td>PREPARED FOODS</td>\n",
              "      <td>0</td>\n",
              "    </tr>\n",
              "    <tr>\n",
              "      <th>28509</th>\n",
              "      <td>3029397</td>\n",
              "      <td>2017-08-31</td>\n",
              "      <td>9</td>\n",
              "      <td>PRODUCE</td>\n",
              "      <td>1</td>\n",
              "    </tr>\n",
              "    <tr>\n",
              "      <th>28510</th>\n",
              "      <td>3029398</td>\n",
              "      <td>2017-08-31</td>\n",
              "      <td>9</td>\n",
              "      <td>SCHOOL AND OFFICE SUPPLIES</td>\n",
              "      <td>9</td>\n",
              "    </tr>\n",
              "    <tr>\n",
              "      <th>28511</th>\n",
              "      <td>3029399</td>\n",
              "      <td>2017-08-31</td>\n",
              "      <td>9</td>\n",
              "      <td>SEAFOOD</td>\n",
              "      <td>0</td>\n",
              "    </tr>\n",
              "  </tbody>\n",
              "</table>\n",
              "<p>28512 rows × 5 columns</p>\n",
              "</div>\n",
              "      <button class=\"colab-df-convert\" onclick=\"convertToInteractive('df-227d3441-8e10-423b-8478-e46c9772cab6')\"\n",
              "              title=\"Convert this dataframe to an interactive table.\"\n",
              "              style=\"display:none;\">\n",
              "        \n",
              "  <svg xmlns=\"http://www.w3.org/2000/svg\" height=\"24px\"viewBox=\"0 0 24 24\"\n",
              "       width=\"24px\">\n",
              "    <path d=\"M0 0h24v24H0V0z\" fill=\"none\"/>\n",
              "    <path d=\"M18.56 5.44l.94 2.06.94-2.06 2.06-.94-2.06-.94-.94-2.06-.94 2.06-2.06.94zm-11 1L8.5 8.5l.94-2.06 2.06-.94-2.06-.94L8.5 2.5l-.94 2.06-2.06.94zm10 10l.94 2.06.94-2.06 2.06-.94-2.06-.94-.94-2.06-.94 2.06-2.06.94z\"/><path d=\"M17.41 7.96l-1.37-1.37c-.4-.4-.92-.59-1.43-.59-.52 0-1.04.2-1.43.59L10.3 9.45l-7.72 7.72c-.78.78-.78 2.05 0 2.83L4 21.41c.39.39.9.59 1.41.59.51 0 1.02-.2 1.41-.59l7.78-7.78 2.81-2.81c.8-.78.8-2.07 0-2.86zM5.41 20L4 18.59l7.72-7.72 1.47 1.35L5.41 20z\"/>\n",
              "  </svg>\n",
              "      </button>\n",
              "      \n",
              "  <style>\n",
              "    .colab-df-container {\n",
              "      display:flex;\n",
              "      flex-wrap:wrap;\n",
              "      gap: 12px;\n",
              "    }\n",
              "\n",
              "    .colab-df-convert {\n",
              "      background-color: #E8F0FE;\n",
              "      border: none;\n",
              "      border-radius: 50%;\n",
              "      cursor: pointer;\n",
              "      display: none;\n",
              "      fill: #1967D2;\n",
              "      height: 32px;\n",
              "      padding: 0 0 0 0;\n",
              "      width: 32px;\n",
              "    }\n",
              "\n",
              "    .colab-df-convert:hover {\n",
              "      background-color: #E2EBFA;\n",
              "      box-shadow: 0px 1px 2px rgba(60, 64, 67, 0.3), 0px 1px 3px 1px rgba(60, 64, 67, 0.15);\n",
              "      fill: #174EA6;\n",
              "    }\n",
              "\n",
              "    [theme=dark] .colab-df-convert {\n",
              "      background-color: #3B4455;\n",
              "      fill: #D2E3FC;\n",
              "    }\n",
              "\n",
              "    [theme=dark] .colab-df-convert:hover {\n",
              "      background-color: #434B5C;\n",
              "      box-shadow: 0px 1px 3px 1px rgba(0, 0, 0, 0.15);\n",
              "      filter: drop-shadow(0px 1px 2px rgba(0, 0, 0, 0.3));\n",
              "      fill: #FFFFFF;\n",
              "    }\n",
              "  </style>\n",
              "\n",
              "      <script>\n",
              "        const buttonEl =\n",
              "          document.querySelector('#df-227d3441-8e10-423b-8478-e46c9772cab6 button.colab-df-convert');\n",
              "        buttonEl.style.display =\n",
              "          google.colab.kernel.accessAllowed ? 'block' : 'none';\n",
              "\n",
              "        async function convertToInteractive(key) {\n",
              "          const element = document.querySelector('#df-227d3441-8e10-423b-8478-e46c9772cab6');\n",
              "          const dataTable =\n",
              "            await google.colab.kernel.invokeFunction('convertToInteractive',\n",
              "                                                     [key], {});\n",
              "          if (!dataTable) return;\n",
              "\n",
              "          const docLinkHtml = 'Like what you see? Visit the ' +\n",
              "            '<a target=\"_blank\" href=https://colab.research.google.com/notebooks/data_table.ipynb>data table notebook</a>'\n",
              "            + ' to learn more about interactive tables.';\n",
              "          element.innerHTML = '';\n",
              "          dataTable['output_type'] = 'display_data';\n",
              "          await google.colab.output.renderOutput(dataTable, element);\n",
              "          const docLink = document.createElement('div');\n",
              "          docLink.innerHTML = docLinkHtml;\n",
              "          element.appendChild(docLink);\n",
              "        }\n",
              "      </script>\n",
              "    </div>\n",
              "  </div>\n",
              "  "
            ]
          },
          "metadata": {},
          "execution_count": 7
        }
      ]
    },
    {
      "cell_type": "code",
      "source": [
        "#train data\n",
        "beverages_train = data_train.loc[data_train['family'] == 'BEVERAGES']\n",
        "beauty_data_train = data_train.loc[data_train['family'] == 'BEAUTY']\n",
        "books_data_train = data_train.loc[data_train['family'] == 'BOOKS']\n",
        "schooland_data_train = data_train.loc[data_train['family'] == 'SCHOOL AND OFFICE SUPPLIES']\n",
        "produce = data_train.loc[data_train['family'] == 'PRODUCE']"
      ],
      "metadata": {
        "id": "MEfJvojd1Kc3"
      },
      "execution_count": 8,
      "outputs": []
    },
    {
      "cell_type": "code",
      "source": [
        "#test data\n",
        "automotive_data_test = data_test.loc[data_test['family'] == 'AUTOMOTIVE']\n",
        "beauty_data_test = data_test.loc[data_test['family'] == 'BEAUTY']\n",
        "books_data_test = data_test.loc[data_test['family'] == 'BOOKS']\n",
        "schooland_data_test = data_test.loc[data_test['family'] == 'SCHOOL AND OFFICE SUPPLIES']"
      ],
      "metadata": {
        "id": "RRljWbIpEWAT"
      },
      "execution_count": 9,
      "outputs": []
    },
    {
      "cell_type": "markdown",
      "source": [
        "# Análisis de la primera tienda"
      ],
      "metadata": {
        "id": "JQp67cAD2Z1-"
      }
    },
    {
      "cell_type": "markdown",
      "source": [
        "Organizamos datos de train y test"
      ],
      "metadata": {
        "id": "Mh20vzdQEIEp"
      }
    },
    {
      "cell_type": "code",
      "source": [
        "data_unus_train = pd.DataFrame()\n",
        "data_unus_train['date'] = pd.to_datetime(beverages_train['date'])\n",
        "data_unus_train['sales'] = beverages_train['sales']\n",
        "data_unus_train['store_nbr'] = beverages_train['store_nbr']\n",
        "data_unus_train.set_index('date', inplace=True)\n",
        "#data_unus_train = data_unus_train.resample('W').sum()\n",
        "# Agrupar por 'Tienda' y 'Fecha' y sumar las ventas\n",
        "data_unus_train_sum = data_unus_train.groupby(['date', 'store_nbr','sales']).sum()\n",
        "data_unus_train.head()"
      ],
      "metadata": {
        "colab": {
          "base_uri": "https://localhost:8080/",
          "height": 237
        },
        "id": "nE7rXQje2nTA",
        "outputId": "6e966d24-acd2-48e7-9bdd-148753f2f97f"
      },
      "execution_count": 10,
      "outputs": [
        {
          "output_type": "execute_result",
          "data": {
            "text/plain": [
              "            sales  store_nbr\n",
              "date                        \n",
              "2013-01-01    0.0          1\n",
              "2013-01-01    0.0         10\n",
              "2013-01-01    0.0         11\n",
              "2013-01-01    0.0         12\n",
              "2013-01-01    0.0         13"
            ],
            "text/html": [
              "\n",
              "  <div id=\"df-f72ea37b-f896-45a4-a103-10e984c1066f\">\n",
              "    <div class=\"colab-df-container\">\n",
              "      <div>\n",
              "<style scoped>\n",
              "    .dataframe tbody tr th:only-of-type {\n",
              "        vertical-align: middle;\n",
              "    }\n",
              "\n",
              "    .dataframe tbody tr th {\n",
              "        vertical-align: top;\n",
              "    }\n",
              "\n",
              "    .dataframe thead th {\n",
              "        text-align: right;\n",
              "    }\n",
              "</style>\n",
              "<table border=\"1\" class=\"dataframe\">\n",
              "  <thead>\n",
              "    <tr style=\"text-align: right;\">\n",
              "      <th></th>\n",
              "      <th>sales</th>\n",
              "      <th>store_nbr</th>\n",
              "    </tr>\n",
              "    <tr>\n",
              "      <th>date</th>\n",
              "      <th></th>\n",
              "      <th></th>\n",
              "    </tr>\n",
              "  </thead>\n",
              "  <tbody>\n",
              "    <tr>\n",
              "      <th>2013-01-01</th>\n",
              "      <td>0.0</td>\n",
              "      <td>1</td>\n",
              "    </tr>\n",
              "    <tr>\n",
              "      <th>2013-01-01</th>\n",
              "      <td>0.0</td>\n",
              "      <td>10</td>\n",
              "    </tr>\n",
              "    <tr>\n",
              "      <th>2013-01-01</th>\n",
              "      <td>0.0</td>\n",
              "      <td>11</td>\n",
              "    </tr>\n",
              "    <tr>\n",
              "      <th>2013-01-01</th>\n",
              "      <td>0.0</td>\n",
              "      <td>12</td>\n",
              "    </tr>\n",
              "    <tr>\n",
              "      <th>2013-01-01</th>\n",
              "      <td>0.0</td>\n",
              "      <td>13</td>\n",
              "    </tr>\n",
              "  </tbody>\n",
              "</table>\n",
              "</div>\n",
              "      <button class=\"colab-df-convert\" onclick=\"convertToInteractive('df-f72ea37b-f896-45a4-a103-10e984c1066f')\"\n",
              "              title=\"Convert this dataframe to an interactive table.\"\n",
              "              style=\"display:none;\">\n",
              "        \n",
              "  <svg xmlns=\"http://www.w3.org/2000/svg\" height=\"24px\"viewBox=\"0 0 24 24\"\n",
              "       width=\"24px\">\n",
              "    <path d=\"M0 0h24v24H0V0z\" fill=\"none\"/>\n",
              "    <path d=\"M18.56 5.44l.94 2.06.94-2.06 2.06-.94-2.06-.94-.94-2.06-.94 2.06-2.06.94zm-11 1L8.5 8.5l.94-2.06 2.06-.94-2.06-.94L8.5 2.5l-.94 2.06-2.06.94zm10 10l.94 2.06.94-2.06 2.06-.94-2.06-.94-.94-2.06-.94 2.06-2.06.94z\"/><path d=\"M17.41 7.96l-1.37-1.37c-.4-.4-.92-.59-1.43-.59-.52 0-1.04.2-1.43.59L10.3 9.45l-7.72 7.72c-.78.78-.78 2.05 0 2.83L4 21.41c.39.39.9.59 1.41.59.51 0 1.02-.2 1.41-.59l7.78-7.78 2.81-2.81c.8-.78.8-2.07 0-2.86zM5.41 20L4 18.59l7.72-7.72 1.47 1.35L5.41 20z\"/>\n",
              "  </svg>\n",
              "      </button>\n",
              "      \n",
              "  <style>\n",
              "    .colab-df-container {\n",
              "      display:flex;\n",
              "      flex-wrap:wrap;\n",
              "      gap: 12px;\n",
              "    }\n",
              "\n",
              "    .colab-df-convert {\n",
              "      background-color: #E8F0FE;\n",
              "      border: none;\n",
              "      border-radius: 50%;\n",
              "      cursor: pointer;\n",
              "      display: none;\n",
              "      fill: #1967D2;\n",
              "      height: 32px;\n",
              "      padding: 0 0 0 0;\n",
              "      width: 32px;\n",
              "    }\n",
              "\n",
              "    .colab-df-convert:hover {\n",
              "      background-color: #E2EBFA;\n",
              "      box-shadow: 0px 1px 2px rgba(60, 64, 67, 0.3), 0px 1px 3px 1px rgba(60, 64, 67, 0.15);\n",
              "      fill: #174EA6;\n",
              "    }\n",
              "\n",
              "    [theme=dark] .colab-df-convert {\n",
              "      background-color: #3B4455;\n",
              "      fill: #D2E3FC;\n",
              "    }\n",
              "\n",
              "    [theme=dark] .colab-df-convert:hover {\n",
              "      background-color: #434B5C;\n",
              "      box-shadow: 0px 1px 3px 1px rgba(0, 0, 0, 0.15);\n",
              "      filter: drop-shadow(0px 1px 2px rgba(0, 0, 0, 0.3));\n",
              "      fill: #FFFFFF;\n",
              "    }\n",
              "  </style>\n",
              "\n",
              "      <script>\n",
              "        const buttonEl =\n",
              "          document.querySelector('#df-f72ea37b-f896-45a4-a103-10e984c1066f button.colab-df-convert');\n",
              "        buttonEl.style.display =\n",
              "          google.colab.kernel.accessAllowed ? 'block' : 'none';\n",
              "\n",
              "        async function convertToInteractive(key) {\n",
              "          const element = document.querySelector('#df-f72ea37b-f896-45a4-a103-10e984c1066f');\n",
              "          const dataTable =\n",
              "            await google.colab.kernel.invokeFunction('convertToInteractive',\n",
              "                                                     [key], {});\n",
              "          if (!dataTable) return;\n",
              "\n",
              "          const docLinkHtml = 'Like what you see? Visit the ' +\n",
              "            '<a target=\"_blank\" href=https://colab.research.google.com/notebooks/data_table.ipynb>data table notebook</a>'\n",
              "            + ' to learn more about interactive tables.';\n",
              "          element.innerHTML = '';\n",
              "          dataTable['output_type'] = 'display_data';\n",
              "          await google.colab.output.renderOutput(dataTable, element);\n",
              "          const docLink = document.createElement('div');\n",
              "          docLink.innerHTML = docLinkHtml;\n",
              "          element.appendChild(docLink);\n",
              "        }\n",
              "      </script>\n",
              "    </div>\n",
              "  </div>\n",
              "  "
            ]
          },
          "metadata": {},
          "execution_count": 10
        }
      ]
    },
    {
      "cell_type": "markdown",
      "source": [
        "Observemos que en una serie de tiempo tenemos los indices en formato de fecha y la variable del store bnr. Si queremos implementar un algoritmo de regresión basado en aprendizaje supervisado, necesitamos tener además de los datos de entrada un vector de etiquetas o datos de salida (y). Vamos a ver varias alternativas:"
      ],
      "metadata": {
        "id": "G_5md72O8rBb"
      }
    },
    {
      "cell_type": "code",
      "source": [
        "fig, ax = plt.subplots(figsize=(16, 11))\n",
        "ax.plot(data_unus_train['sales'])\n",
        "ax.set_xlabel('Time')\n",
        "ax.set_ylabel('Sales')\n",
        "fig.autofmt_xdate()\n",
        "plt.tight_layout()"
      ],
      "metadata": {
        "colab": {
          "base_uri": "https://localhost:8080/",
          "height": 1000
        },
        "id": "5-NePFPdY2Wl",
        "outputId": "720cda6c-9edf-49d2-cfbe-0eeee5656de9"
      },
      "execution_count": 11,
      "outputs": [
        {
          "output_type": "display_data",
          "data": {
            "text/plain": [
              "<Figure size 1600x1100 with 1 Axes>"
            ],
            "image/png": "[encoded data removed]"
          },
          "metadata": {}
        }
      ]
    },
    {
      "cell_type": "markdown",
      "source": [
        "## Predecir cada dato siguiente a partir de una observación previa."
      ],
      "metadata": {
        "id": "SZDce4Hx8xTu"
      }
    },
    {
      "cell_type": "markdown",
      "source": [
        "![image.png](data:image/png;base64,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)"
      ],
      "metadata": {
        "id": "s43gefNn82HW"
      }
    },
    {
      "cell_type": "markdown",
      "source": [
        "Este es un modelo muy básico porque es dificil que se pueda predecir un dato solo a partir de una observación previa. Mas adelante veremos esta implementación pero con una ventana de observación mayor. Lo importante es que debemos generar una matriz con los datos de entrada y de salida para poder trabajar el esquema tal cual como se ha revisado anteriormente para problemas de clasificación supervisada."
      ],
      "metadata": {
        "id": "OaMQfcAb87-N"
      }
    },
    {
      "cell_type": "markdown",
      "source": [
        "Vamos a adicionar una columna equivalente a la salida que se va a predecir. Para esto se utiliza el método *shift*."
      ],
      "metadata": {
        "id": "UjsHiveI8-9T"
      }
    },
    {
      "cell_type": "code",
      "source": [
        "data_unus_train = data_unus_train.copy()\n",
        "data_unus_train = data_unus_train.fillna(method='bfill')\n",
        "data_unus_train['y'] = data_unus_train['sales'].shift(-1)"
      ],
      "metadata": {
        "id": "p00m4eyd6b2A"
      },
      "execution_count": 12,
      "outputs": []
    },
    {
      "cell_type": "code",
      "source": [
        "data_unus_train.head()"
      ],
      "metadata": {
        "colab": {
          "base_uri": "https://localhost:8080/",
          "height": 237
        },
        "id": "PwZ3hLOc7frd",
        "outputId": "515516e8-27d7-4f70-eb61-131d72d70daa"
      },
      "execution_count": 13,
      "outputs": [
        {
          "output_type": "execute_result",
          "data": {
            "text/plain": [
              "            sales  store_nbr    y\n",
              "date                             \n",
              "2013-01-01    0.0          1  0.0\n",
              "2013-01-01    0.0         10  0.0\n",
              "2013-01-01    0.0         11  0.0\n",
              "2013-01-01    0.0         12  0.0\n",
              "2013-01-01    0.0         13  0.0"
            ],
            "text/html": [
              "\n",
              "  <div id=\"df-a9de570a-dc2d-44f2-9c3c-3f488d3832a1\">\n",
              "    <div class=\"colab-df-container\">\n",
              "      <div>\n",
              "<style scoped>\n",
              "    .dataframe tbody tr th:only-of-type {\n",
              "        vertical-align: middle;\n",
              "    }\n",
              "\n",
              "    .dataframe tbody tr th {\n",
              "        vertical-align: top;\n",
              "    }\n",
              "\n",
              "    .dataframe thead th {\n",
              "        text-align: right;\n",
              "    }\n",
              "</style>\n",
              "<table border=\"1\" class=\"dataframe\">\n",
              "  <thead>\n",
              "    <tr style=\"text-align: right;\">\n",
              "      <th></th>\n",
              "      <th>sales</th>\n",
              "      <th>store_nbr</th>\n",
              "      <th>y</th>\n",
              "    </tr>\n",
              "    <tr>\n",
              "      <th>date</th>\n",
              "      <th></th>\n",
              "      <th></th>\n",
              "      <th></th>\n",
              "    </tr>\n",
              "  </thead>\n",
              "  <tbody>\n",
              "    <tr>\n",
              "      <th>2013-01-01</th>\n",
              "      <td>0.0</td>\n",
              "      <td>1</td>\n",
              "      <td>0.0</td>\n",
              "    </tr>\n",
              "    <tr>\n",
              "      <th>2013-01-01</th>\n",
              "      <td>0.0</td>\n",
              "      <td>10</td>\n",
              "      <td>0.0</td>\n",
              "    </tr>\n",
              "    <tr>\n",
              "      <th>2013-01-01</th>\n",
              "      <td>0.0</td>\n",
              "      <td>11</td>\n",
              "      <td>0.0</td>\n",
              "    </tr>\n",
              "    <tr>\n",
              "      <th>2013-01-01</th>\n",
              "      <td>0.0</td>\n",
              "      <td>12</td>\n",
              "      <td>0.0</td>\n",
              "    </tr>\n",
              "    <tr>\n",
              "      <th>2013-01-01</th>\n",
              "      <td>0.0</td>\n",
              "      <td>13</td>\n",
              "      <td>0.0</td>\n",
              "    </tr>\n",
              "  </tbody>\n",
              "</table>\n",
              "</div>\n",
              "      <button class=\"colab-df-convert\" onclick=\"convertToInteractive('df-a9de570a-dc2d-44f2-9c3c-3f488d3832a1')\"\n",
              "              title=\"Convert this dataframe to an interactive table.\"\n",
              "              style=\"display:none;\">\n",
              "        \n",
              "  <svg xmlns=\"http://www.w3.org/2000/svg\" height=\"24px\"viewBox=\"0 0 24 24\"\n",
              "       width=\"24px\">\n",
              "    <path d=\"M0 0h24v24H0V0z\" fill=\"none\"/>\n",
              "    <path d=\"M18.56 5.44l.94 2.06.94-2.06 2.06-.94-2.06-.94-.94-2.06-.94 2.06-2.06.94zm-11 1L8.5 8.5l.94-2.06 2.06-.94-2.06-.94L8.5 2.5l-.94 2.06-2.06.94zm10 10l.94 2.06.94-2.06 2.06-.94-2.06-.94-.94-2.06-.94 2.06-2.06.94z\"/><path d=\"M17.41 7.96l-1.37-1.37c-.4-.4-.92-.59-1.43-.59-.52 0-1.04.2-1.43.59L10.3 9.45l-7.72 7.72c-.78.78-.78 2.05 0 2.83L4 21.41c.39.39.9.59 1.41.59.51 0 1.02-.2 1.41-.59l7.78-7.78 2.81-2.81c.8-.78.8-2.07 0-2.86zM5.41 20L4 18.59l7.72-7.72 1.47 1.35L5.41 20z\"/>\n",
              "  </svg>\n",
              "      </button>\n",
              "      \n",
              "  <style>\n",
              "    .colab-df-container {\n",
              "      display:flex;\n",
              "      flex-wrap:wrap;\n",
              "      gap: 12px;\n",
              "    }\n",
              "\n",
              "    .colab-df-convert {\n",
              "      background-color: #E8F0FE;\n",
              "      border: none;\n",
              "      border-radius: 50%;\n",
              "      cursor: pointer;\n",
              "      display: none;\n",
              "      fill: #1967D2;\n",
              "      height: 32px;\n",
              "      padding: 0 0 0 0;\n",
              "      width: 32px;\n",
              "    }\n",
              "\n",
              "    .colab-df-convert:hover {\n",
              "      background-color: #E2EBFA;\n",
              "      box-shadow: 0px 1px 2px rgba(60, 64, 67, 0.3), 0px 1px 3px 1px rgba(60, 64, 67, 0.15);\n",
              "      fill: #174EA6;\n",
              "    }\n",
              "\n",
              "    [theme=dark] .colab-df-convert {\n",
              "      background-color: #3B4455;\n",
              "      fill: #D2E3FC;\n",
              "    }\n",
              "\n",
              "    [theme=dark] .colab-df-convert:hover {\n",
              "      background-color: #434B5C;\n",
              "      box-shadow: 0px 1px 3px 1px rgba(0, 0, 0, 0.15);\n",
              "      filter: drop-shadow(0px 1px 2px rgba(0, 0, 0, 0.3));\n",
              "      fill: #FFFFFF;\n",
              "    }\n",
              "  </style>\n",
              "\n",
              "      <script>\n",
              "        const buttonEl =\n",
              "          document.querySelector('#df-a9de570a-dc2d-44f2-9c3c-3f488d3832a1 button.colab-df-convert');\n",
              "        buttonEl.style.display =\n",
              "          google.colab.kernel.accessAllowed ? 'block' : 'none';\n",
              "\n",
              "        async function convertToInteractive(key) {\n",
              "          const element = document.querySelector('#df-a9de570a-dc2d-44f2-9c3c-3f488d3832a1');\n",
              "          const dataTable =\n",
              "            await google.colab.kernel.invokeFunction('convertToInteractive',\n",
              "                                                     [key], {});\n",
              "          if (!dataTable) return;\n",
              "\n",
              "          const docLinkHtml = 'Like what you see? Visit the ' +\n",
              "            '<a target=\"_blank\" href=https://colab.research.google.com/notebooks/data_table.ipynb>data table notebook</a>'\n",
              "            + ' to learn more about interactive tables.';\n",
              "          element.innerHTML = '';\n",
              "          dataTable['output_type'] = 'display_data';\n",
              "          await google.colab.output.renderOutput(dataTable, element);\n",
              "          const docLink = document.createElement('div');\n",
              "          docLink.innerHTML = docLinkHtml;\n",
              "          element.appendChild(docLink);\n",
              "        }\n",
              "      </script>\n",
              "    </div>\n",
              "  </div>\n",
              "  "
            ]
          },
          "metadata": {},
          "execution_count": 13
        }
      ]
    },
    {
      "cell_type": "markdown",
      "source": [
        "Con esto podemos implementar un modelo que predice cada observación con la observación previa. En esta construcción se tiene un problema en la última observación que debe ser tratado mas adelante."
      ],
      "metadata": {
        "id": "DkZKZga48iw4"
      }
    },
    {
      "cell_type": "code",
      "source": [
        "data_unus_train.tail()\n",
        "#test = data_unus_train.drop(data_unus_train.tail(1).index) # Drop last row"
      ],
      "metadata": {
        "colab": {
          "base_uri": "https://localhost:8080/",
          "height": 237
        },
        "id": "5Gk4MTF27pWI",
        "outputId": "04c686ca-b3c2-45f5-bc0c-190157b477b4"
      },
      "execution_count": 14,
      "outputs": [
        {
          "output_type": "execute_result",
          "data": {
            "text/plain": [
              "             sales  store_nbr       y\n",
              "date                                 \n",
              "2017-08-15  4332.0         54  2678.0\n",
              "2017-08-15  2678.0          6  3999.0\n",
              "2017-08-15  3999.0          7  3626.0\n",
              "2017-08-15  3626.0          8  3530.0\n",
              "2017-08-15  3530.0          9     NaN"
            ],
            "text/html": [
              "\n",
              "  <div id=\"df-be162cf9-877a-4c9e-b27b-34beda3059da\">\n",
              "    <div class=\"colab-df-container\">\n",
              "      <div>\n",
              "<style scoped>\n",
              "    .dataframe tbody tr th:only-of-type {\n",
              "        vertical-align: middle;\n",
              "    }\n",
              "\n",
              "    .dataframe tbody tr th {\n",
              "        vertical-align: top;\n",
              "    }\n",
              "\n",
              "    .dataframe thead th {\n",
              "        text-align: right;\n",
              "    }\n",
              "</style>\n",
              "<table border=\"1\" class=\"dataframe\">\n",
              "  <thead>\n",
              "    <tr style=\"text-align: right;\">\n",
              "      <th></th>\n",
              "      <th>sales</th>\n",
              "      <th>store_nbr</th>\n",
              "      <th>y</th>\n",
              "    </tr>\n",
              "    <tr>\n",
              "      <th>date</th>\n",
              "      <th></th>\n",
              "      <th></th>\n",
              "      <th></th>\n",
              "    </tr>\n",
              "  </thead>\n",
              "  <tbody>\n",
              "    <tr>\n",
              "      <th>2017-08-15</th>\n",
              "      <td>4332.0</td>\n",
              "      <td>54</td>\n",
              "      <td>2678.0</td>\n",
              "    </tr>\n",
              "    <tr>\n",
              "      <th>2017-08-15</th>\n",
              "      <td>2678.0</td>\n",
              "      <td>6</td>\n",
              "      <td>3999.0</td>\n",
              "    </tr>\n",
              "    <tr>\n",
              "      <th>2017-08-15</th>\n",
              "      <td>3999.0</td>\n",
              "      <td>7</td>\n",
              "      <td>3626.0</td>\n",
              "    </tr>\n",
              "    <tr>\n",
              "      <th>2017-08-15</th>\n",
              "      <td>3626.0</td>\n",
              "      <td>8</td>\n",
              "      <td>3530.0</td>\n",
              "    </tr>\n",
              "    <tr>\n",
              "      <th>2017-08-15</th>\n",
              "      <td>3530.0</td>\n",
              "      <td>9</td>\n",
              "      <td>NaN</td>\n",
              "    </tr>\n",
              "  </tbody>\n",
              "</table>\n",
              "</div>\n",
              "      <button class=\"colab-df-convert\" onclick=\"convertToInteractive('df-be162cf9-877a-4c9e-b27b-34beda3059da')\"\n",
              "              title=\"Convert this dataframe to an interactive table.\"\n",
              "              style=\"display:none;\">\n",
              "        \n",
              "  <svg xmlns=\"http://www.w3.org/2000/svg\" height=\"24px\"viewBox=\"0 0 24 24\"\n",
              "       width=\"24px\">\n",
              "    <path d=\"M0 0h24v24H0V0z\" fill=\"none\"/>\n",
              "    <path d=\"M18.56 5.44l.94 2.06.94-2.06 2.06-.94-2.06-.94-.94-2.06-.94 2.06-2.06.94zm-11 1L8.5 8.5l.94-2.06 2.06-.94-2.06-.94L8.5 2.5l-.94 2.06-2.06.94zm10 10l.94 2.06.94-2.06 2.06-.94-2.06-.94-.94-2.06-.94 2.06-2.06.94z\"/><path d=\"M17.41 7.96l-1.37-1.37c-.4-.4-.92-.59-1.43-.59-.52 0-1.04.2-1.43.59L10.3 9.45l-7.72 7.72c-.78.78-.78 2.05 0 2.83L4 21.41c.39.39.9.59 1.41.59.51 0 1.02-.2 1.41-.59l7.78-7.78 2.81-2.81c.8-.78.8-2.07 0-2.86zM5.41 20L4 18.59l7.72-7.72 1.47 1.35L5.41 20z\"/>\n",
              "  </svg>\n",
              "      </button>\n",
              "      \n",
              "  <style>\n",
              "    .colab-df-container {\n",
              "      display:flex;\n",
              "      flex-wrap:wrap;\n",
              "      gap: 12px;\n",
              "    }\n",
              "\n",
              "    .colab-df-convert {\n",
              "      background-color: #E8F0FE;\n",
              "      border: none;\n",
              "      border-radius: 50%;\n",
              "      cursor: pointer;\n",
              "      display: none;\n",
              "      fill: #1967D2;\n",
              "      height: 32px;\n",
              "      padding: 0 0 0 0;\n",
              "      width: 32px;\n",
              "    }\n",
              "\n",
              "    .colab-df-convert:hover {\n",
              "      background-color: #E2EBFA;\n",
              "      box-shadow: 0px 1px 2px rgba(60, 64, 67, 0.3), 0px 1px 3px 1px rgba(60, 64, 67, 0.15);\n",
              "      fill: #174EA6;\n",
              "    }\n",
              "\n",
              "    [theme=dark] .colab-df-convert {\n",
              "      background-color: #3B4455;\n",
              "      fill: #D2E3FC;\n",
              "    }\n",
              "\n",
              "    [theme=dark] .colab-df-convert:hover {\n",
              "      background-color: #434B5C;\n",
              "      box-shadow: 0px 1px 3px 1px rgba(0, 0, 0, 0.15);\n",
              "      filter: drop-shadow(0px 1px 2px rgba(0, 0, 0, 0.3));\n",
              "      fill: #FFFFFF;\n",
              "    }\n",
              "  </style>\n",
              "\n",
              "      <script>\n",
              "        const buttonEl =\n",
              "          document.querySelector('#df-be162cf9-877a-4c9e-b27b-34beda3059da button.colab-df-convert');\n",
              "        buttonEl.style.display =\n",
              "          google.colab.kernel.accessAllowed ? 'block' : 'none';\n",
              "\n",
              "        async function convertToInteractive(key) {\n",
              "          const element = document.querySelector('#df-be162cf9-877a-4c9e-b27b-34beda3059da');\n",
              "          const dataTable =\n",
              "            await google.colab.kernel.invokeFunction('convertToInteractive',\n",
              "                                                     [key], {});\n",
              "          if (!dataTable) return;\n",
              "\n",
              "          const docLinkHtml = 'Like what you see? Visit the ' +\n",
              "            '<a target=\"_blank\" href=https://colab.research.google.com/notebooks/data_table.ipynb>data table notebook</a>'\n",
              "            + ' to learn more about interactive tables.';\n",
              "          element.innerHTML = '';\n",
              "          dataTable['output_type'] = 'display_data';\n",
              "          await google.colab.output.renderOutput(dataTable, element);\n",
              "          const docLink = document.createElement('div');\n",
              "          docLink.innerHTML = docLinkHtml;\n",
              "          element.appendChild(docLink);\n",
              "        }\n",
              "      </script>\n",
              "    </div>\n",
              "  </div>\n",
              "  "
            ]
          },
          "metadata": {},
          "execution_count": 14
        }
      ]
    },
    {
      "cell_type": "markdown",
      "source": [
        "No tenemos que dividir el conjunto de datos de test y train porque ya la serie viene tiene los datos por separado"
      ],
      "metadata": {
        "id": "QEzrdJsd9HI7"
      }
    },
    {
      "cell_type": "code",
      "source": [
        "train = data_unus_train[:-104]\n",
        "test = data_unus_train[-104:]\n",
        "test = test.fillna(method='bfill')"
      ],
      "metadata": {
        "id": "Mc27agF6IN52"
      },
      "execution_count": 15,
      "outputs": []
    },
    {
      "cell_type": "markdown",
      "source": [
        "Vamos a implementar dos modelos de regresión, arboles de decisión y un algoritmos de regresión basado en Gradient Boosting. La predicción la agregamos como una columna adicional en el dataframe."
      ],
      "metadata": {
        "id": "Iz8UyDYF9SSv"
      }
    },
    {
      "cell_type": "code",
      "source": [
        "from sklearn.tree import DecisionTreeRegressor\n",
        "X_train = train['sales'].values.reshape(-1,1)\n",
        "y_train = train['y'].values.reshape(-1,1)\n",
        "X_test = test['sales'].values.reshape(-1,1)\n",
        "y_test = test['y'].values.reshape(-1,1)\n",
        "# Initialize the model\n",
        "dt_reg = DecisionTreeRegressor(random_state=42)\n",
        "# Fit the model\n",
        "dt_reg.fit(X=X_train, y=y_train)\n",
        "# Make predictions\n",
        "dt_pred = dt_reg.predict(X_test)\n",
        "# Assign predictions to a new column in test\n",
        "test['dt_pred'] = dt_pred"
      ],
      "metadata": {
        "id": "q64ltp1N8HNv"
      },
      "execution_count": 16,
      "outputs": []
    },
    {
      "cell_type": "code",
      "source": [
        "from sklearn.ensemble import GradientBoostingRegressor\n",
        "gbr = GradientBoostingRegressor(random_state=42)\n",
        "gbr.fit(X_train, y=y_train.ravel())\n",
        "gbr_pred = gbr.predict(X_test)\n",
        "test['gbr_pred'] = gbr_pred"
      ],
      "metadata": {
        "id": "3tud7hMG8JHO"
      },
      "execution_count": 17,
      "outputs": []
    },
    {
      "cell_type": "code",
      "source": [
        "test.head()"
      ],
      "metadata": {
        "id": "dWUiYX4B8MJi",
        "colab": {
          "base_uri": "https://localhost:8080/",
          "height": 237
        },
        "outputId": "b718e00e-1c3c-4c68-93e3-24baa18476c8"
      },
      "execution_count": 18,
      "outputs": [
        {
          "output_type": "execute_result",
          "data": {
            "text/plain": [
              "             sales  store_nbr       y      dt_pred     gbr_pred\n",
              "date                                                           \n",
              "2017-08-14  1512.0         13  1440.0  2321.086957  2070.685216\n",
              "2017-08-14  1440.0         14  1814.0  1576.655172  1997.622194\n",
              "2017-08-14  1814.0         15  1739.0  1801.882353  2223.573538\n",
              "2017-08-14  1739.0         16  3047.0  2088.062500  2139.833041\n",
              "2017-08-14  3047.0         17  1996.0  2232.562500  2829.500638"
            ],
            "text/html": [
              "\n",
              "  <div id=\"df-de524dd4-6156-4ec2-ad37-730005158199\">\n",
              "    <div class=\"colab-df-container\">\n",
              "      <div>\n",
              "<style scoped>\n",
              "    .dataframe tbody tr th:only-of-type {\n",
              "        vertical-align: middle;\n",
              "    }\n",
              "\n",
              "    .dataframe tbody tr th {\n",
              "        vertical-align: top;\n",
              "    }\n",
              "\n",
              "    .dataframe thead th {\n",
              "        text-align: right;\n",
              "    }\n",
              "</style>\n",
              "<table border=\"1\" class=\"dataframe\">\n",
              "  <thead>\n",
              "    <tr style=\"text-align: right;\">\n",
              "      <th></th>\n",
              "      <th>sales</th>\n",
              "      <th>store_nbr</th>\n",
              "      <th>y</th>\n",
              "      <th>dt_pred</th>\n",
              "      <th>gbr_pred</th>\n",
              "    </tr>\n",
              "    <tr>\n",
              "      <th>date</th>\n",
              "      <th></th>\n",
              "      <th></th>\n",
              "      <th></th>\n",
              "      <th></th>\n",
              "      <th></th>\n",
              "    </tr>\n",
              "  </thead>\n",
              "  <tbody>\n",
              "    <tr>\n",
              "      <th>2017-08-14</th>\n",
              "      <td>1512.0</td>\n",
              "      <td>13</td>\n",
              "      <td>1440.0</td>\n",
              "      <td>2321.086957</td>\n",
              "      <td>2070.685216</td>\n",
              "    </tr>\n",
              "    <tr>\n",
              "      <th>2017-08-14</th>\n",
              "      <td>1440.0</td>\n",
              "      <td>14</td>\n",
              "      <td>1814.0</td>\n",
              "      <td>1576.655172</td>\n",
              "      <td>1997.622194</td>\n",
              "    </tr>\n",
              "    <tr>\n",
              "      <th>2017-08-14</th>\n",
              "      <td>1814.0</td>\n",
              "      <td>15</td>\n",
              "      <td>1739.0</td>\n",
              "      <td>1801.882353</td>\n",
              "      <td>2223.573538</td>\n",
              "    </tr>\n",
              "    <tr>\n",
              "      <th>2017-08-14</th>\n",
              "      <td>1739.0</td>\n",
              "      <td>16</td>\n",
              "      <td>3047.0</td>\n",
              "      <td>2088.062500</td>\n",
              "      <td>2139.833041</td>\n",
              "    </tr>\n",
              "    <tr>\n",
              "      <th>2017-08-14</th>\n",
              "      <td>3047.0</td>\n",
              "      <td>17</td>\n",
              "      <td>1996.0</td>\n",
              "      <td>2232.562500</td>\n",
              "      <td>2829.500638</td>\n",
              "    </tr>\n",
              "  </tbody>\n",
              "</table>\n",
              "</div>\n",
              "      <button class=\"colab-df-convert\" onclick=\"convertToInteractive('df-de524dd4-6156-4ec2-ad37-730005158199')\"\n",
              "              title=\"Convert this dataframe to an interactive table.\"\n",
              "              style=\"display:none;\">\n",
              "        \n",
              "  <svg xmlns=\"http://www.w3.org/2000/svg\" height=\"24px\"viewBox=\"0 0 24 24\"\n",
              "       width=\"24px\">\n",
              "    <path d=\"M0 0h24v24H0V0z\" fill=\"none\"/>\n",
              "    <path d=\"M18.56 5.44l.94 2.06.94-2.06 2.06-.94-2.06-.94-.94-2.06-.94 2.06-2.06.94zm-11 1L8.5 8.5l.94-2.06 2.06-.94-2.06-.94L8.5 2.5l-.94 2.06-2.06.94zm10 10l.94 2.06.94-2.06 2.06-.94-2.06-.94-.94-2.06-.94 2.06-2.06.94z\"/><path d=\"M17.41 7.96l-1.37-1.37c-.4-.4-.92-.59-1.43-.59-.52 0-1.04.2-1.43.59L10.3 9.45l-7.72 7.72c-.78.78-.78 2.05 0 2.83L4 21.41c.39.39.9.59 1.41.59.51 0 1.02-.2 1.41-.59l7.78-7.78 2.81-2.81c.8-.78.8-2.07 0-2.86zM5.41 20L4 18.59l7.72-7.72 1.47 1.35L5.41 20z\"/>\n",
              "  </svg>\n",
              "      </button>\n",
              "      \n",
              "  <style>\n",
              "    .colab-df-container {\n",
              "      display:flex;\n",
              "      flex-wrap:wrap;\n",
              "      gap: 12px;\n",
              "    }\n",
              "\n",
              "    .colab-df-convert {\n",
              "      background-color: #E8F0FE;\n",
              "      border: none;\n",
              "      border-radius: 50%;\n",
              "      cursor: pointer;\n",
              "      display: none;\n",
              "      fill: #1967D2;\n",
              "      height: 32px;\n",
              "      padding: 0 0 0 0;\n",
              "      width: 32px;\n",
              "    }\n",
              "\n",
              "    .colab-df-convert:hover {\n",
              "      background-color: #E2EBFA;\n",
              "      box-shadow: 0px 1px 2px rgba(60, 64, 67, 0.3), 0px 1px 3px 1px rgba(60, 64, 67, 0.15);\n",
              "      fill: #174EA6;\n",
              "    }\n",
              "\n",
              "    [theme=dark] .colab-df-convert {\n",
              "      background-color: #3B4455;\n",
              "      fill: #D2E3FC;\n",
              "    }\n",
              "\n",
              "    [theme=dark] .colab-df-convert:hover {\n",
              "      background-color: #434B5C;\n",
              "      box-shadow: 0px 1px 3px 1px rgba(0, 0, 0, 0.15);\n",
              "      filter: drop-shadow(0px 1px 2px rgba(0, 0, 0, 0.3));\n",
              "      fill: #FFFFFF;\n",
              "    }\n",
              "  </style>\n",
              "\n",
              "      <script>\n",
              "        const buttonEl =\n",
              "          document.querySelector('#df-de524dd4-6156-4ec2-ad37-730005158199 button.colab-df-convert');\n",
              "        buttonEl.style.display =\n",
              "          google.colab.kernel.accessAllowed ? 'block' : 'none';\n",
              "\n",
              "        async function convertToInteractive(key) {\n",
              "          const element = document.querySelector('#df-de524dd4-6156-4ec2-ad37-730005158199');\n",
              "          const dataTable =\n",
              "            await google.colab.kernel.invokeFunction('convertToInteractive',\n",
              "                                                     [key], {});\n",
              "          if (!dataTable) return;\n",
              "\n",
              "          const docLinkHtml = 'Like what you see? Visit the ' +\n",
              "            '<a target=\"_blank\" href=https://colab.research.google.com/notebooks/data_table.ipynb>data table notebook</a>'\n",
              "            + ' to learn more about interactive tables.';\n",
              "          element.innerHTML = '';\n",
              "          dataTable['output_type'] = 'display_data';\n",
              "          await google.colab.output.renderOutput(dataTable, element);\n",
              "          const docLink = document.createElement('div');\n",
              "          docLink.innerHTML = docLinkHtml;\n",
              "          element.appendChild(docLink);\n",
              "        }\n",
              "      </script>\n",
              "    </div>\n",
              "  </div>\n",
              "  "
            ]
          },
          "metadata": {},
          "execution_count": 18
        }
      ]
    },
    {
      "cell_type": "markdown",
      "source": [
        "Con el fin de tener una comparación, vamos a agregar una columna de base o referencia donde la predicción es igual a la entrada:"
      ],
      "metadata": {
        "id": "a04xBmb59XUM"
      }
    },
    {
      "cell_type": "code",
      "source": [
        "test_2 = test.copy()\n",
        "test_2['baseline_pred'] = test_2['sales']\n",
        "test_2['gbr_pred'] = gbr_pred\n",
        "test_3 = test_2.copy()\n",
        "test_3_fill = test_3.fillna(0)\n",
        "test_3_fill.head()"
      ],
      "metadata": {
        "id": "SdacjWmP8N7x",
        "colab": {
          "base_uri": "https://localhost:8080/",
          "height": 237
        },
        "outputId": "85612219-244e-4dcd-d3d0-37b19f34f84b"
      },
      "execution_count": 19,
      "outputs": [
        {
          "output_type": "execute_result",
          "data": {
            "text/plain": [
              "             sales  store_nbr       y      dt_pred     gbr_pred  baseline_pred\n",
              "date                                                                          \n",
              "2017-08-14  1512.0         13  1440.0  2321.086957  2070.685216         1512.0\n",
              "2017-08-14  1440.0         14  1814.0  1576.655172  1997.622194         1440.0\n",
              "2017-08-14  1814.0         15  1739.0  1801.882353  2223.573538         1814.0\n",
              "2017-08-14  1739.0         16  3047.0  2088.062500  2139.833041         1739.0\n",
              "2017-08-14  3047.0         17  1996.0  2232.562500  2829.500638         3047.0"
            ],
            "text/html": [
              "\n",
              "  <div id=\"df-f27fe41e-89ce-44cc-9805-f4c6276306c5\">\n",
              "    <div class=\"colab-df-container\">\n",
              "      <div>\n",
              "<style scoped>\n",
              "    .dataframe tbody tr th:only-of-type {\n",
              "        vertical-align: middle;\n",
              "    }\n",
              "\n",
              "    .dataframe tbody tr th {\n",
              "        vertical-align: top;\n",
              "    }\n",
              "\n",
              "    .dataframe thead th {\n",
              "        text-align: right;\n",
              "    }\n",
              "</style>\n",
              "<table border=\"1\" class=\"dataframe\">\n",
              "  <thead>\n",
              "    <tr style=\"text-align: right;\">\n",
              "      <th></th>\n",
              "      <th>sales</th>\n",
              "      <th>store_nbr</th>\n",
              "      <th>y</th>\n",
              "      <th>dt_pred</th>\n",
              "      <th>gbr_pred</th>\n",
              "      <th>baseline_pred</th>\n",
              "    </tr>\n",
              "    <tr>\n",
              "      <th>date</th>\n",
              "      <th></th>\n",
              "      <th></th>\n",
              "      <th></th>\n",
              "      <th></th>\n",
              "      <th></th>\n",
              "      <th></th>\n",
              "    </tr>\n",
              "  </thead>\n",
              "  <tbody>\n",
              "    <tr>\n",
              "      <th>2017-08-14</th>\n",
              "      <td>1512.0</td>\n",
              "      <td>13</td>\n",
              "      <td>1440.0</td>\n",
              "      <td>2321.086957</td>\n",
              "      <td>2070.685216</td>\n",
              "      <td>1512.0</td>\n",
              "    </tr>\n",
              "    <tr>\n",
              "      <th>2017-08-14</th>\n",
              "      <td>1440.0</td>\n",
              "      <td>14</td>\n",
              "      <td>1814.0</td>\n",
              "      <td>1576.655172</td>\n",
              "      <td>1997.622194</td>\n",
              "      <td>1440.0</td>\n",
              "    </tr>\n",
              "    <tr>\n",
              "      <th>2017-08-14</th>\n",
              "      <td>1814.0</td>\n",
              "      <td>15</td>\n",
              "      <td>1739.0</td>\n",
              "      <td>1801.882353</td>\n",
              "      <td>2223.573538</td>\n",
              "      <td>1814.0</td>\n",
              "    </tr>\n",
              "    <tr>\n",
              "      <th>2017-08-14</th>\n",
              "      <td>1739.0</td>\n",
              "      <td>16</td>\n",
              "      <td>3047.0</td>\n",
              "      <td>2088.062500</td>\n",
              "      <td>2139.833041</td>\n",
              "      <td>1739.0</td>\n",
              "    </tr>\n",
              "    <tr>\n",
              "      <th>2017-08-14</th>\n",
              "      <td>3047.0</td>\n",
              "      <td>17</td>\n",
              "      <td>1996.0</td>\n",
              "      <td>2232.562500</td>\n",
              "      <td>2829.500638</td>\n",
              "      <td>3047.0</td>\n",
              "    </tr>\n",
              "  </tbody>\n",
              "</table>\n",
              "</div>\n",
              "      <button class=\"colab-df-convert\" onclick=\"convertToInteractive('df-f27fe41e-89ce-44cc-9805-f4c6276306c5')\"\n",
              "              title=\"Convert this dataframe to an interactive table.\"\n",
              "              style=\"display:none;\">\n",
              "        \n",
              "  <svg xmlns=\"http://www.w3.org/2000/svg\" height=\"24px\"viewBox=\"0 0 24 24\"\n",
              "       width=\"24px\">\n",
              "    <path d=\"M0 0h24v24H0V0z\" fill=\"none\"/>\n",
              "    <path d=\"M18.56 5.44l.94 2.06.94-2.06 2.06-.94-2.06-.94-.94-2.06-.94 2.06-2.06.94zm-11 1L8.5 8.5l.94-2.06 2.06-.94-2.06-.94L8.5 2.5l-.94 2.06-2.06.94zm10 10l.94 2.06.94-2.06 2.06-.94-2.06-.94-.94-2.06-.94 2.06-2.06.94z\"/><path d=\"M17.41 7.96l-1.37-1.37c-.4-.4-.92-.59-1.43-.59-.52 0-1.04.2-1.43.59L10.3 9.45l-7.72 7.72c-.78.78-.78 2.05 0 2.83L4 21.41c.39.39.9.59 1.41.59.51 0 1.02-.2 1.41-.59l7.78-7.78 2.81-2.81c.8-.78.8-2.07 0-2.86zM5.41 20L4 18.59l7.72-7.72 1.47 1.35L5.41 20z\"/>\n",
              "  </svg>\n",
              "      </button>\n",
              "      \n",
              "  <style>\n",
              "    .colab-df-container {\n",
              "      display:flex;\n",
              "      flex-wrap:wrap;\n",
              "      gap: 12px;\n",
              "    }\n",
              "\n",
              "    .colab-df-convert {\n",
              "      background-color: #E8F0FE;\n",
              "      border: none;\n",
              "      border-radius: 50%;\n",
              "      cursor: pointer;\n",
              "      display: none;\n",
              "      fill: #1967D2;\n",
              "      height: 32px;\n",
              "      padding: 0 0 0 0;\n",
              "      width: 32px;\n",
              "    }\n",
              "\n",
              "    .colab-df-convert:hover {\n",
              "      background-color: #E2EBFA;\n",
              "      box-shadow: 0px 1px 2px rgba(60, 64, 67, 0.3), 0px 1px 3px 1px rgba(60, 64, 67, 0.15);\n",
              "      fill: #174EA6;\n",
              "    }\n",
              "\n",
              "    [theme=dark] .colab-df-convert {\n",
              "      background-color: #3B4455;\n",
              "      fill: #D2E3FC;\n",
              "    }\n",
              "\n",
              "    [theme=dark] .colab-df-convert:hover {\n",
              "      background-color: #434B5C;\n",
              "      box-shadow: 0px 1px 3px 1px rgba(0, 0, 0, 0.15);\n",
              "      filter: drop-shadow(0px 1px 2px rgba(0, 0, 0, 0.3));\n",
              "      fill: #FFFFFF;\n",
              "    }\n",
              "  </style>\n",
              "\n",
              "      <script>\n",
              "        const buttonEl =\n",
              "          document.querySelector('#df-f27fe41e-89ce-44cc-9805-f4c6276306c5 button.colab-df-convert');\n",
              "        buttonEl.style.display =\n",
              "          google.colab.kernel.accessAllowed ? 'block' : 'none';\n",
              "\n",
              "        async function convertToInteractive(key) {\n",
              "          const element = document.querySelector('#df-f27fe41e-89ce-44cc-9805-f4c6276306c5');\n",
              "          const dataTable =\n",
              "            await google.colab.kernel.invokeFunction('convertToInteractive',\n",
              "                                                     [key], {});\n",
              "          if (!dataTable) return;\n",
              "\n",
              "          const docLinkHtml = 'Like what you see? Visit the ' +\n",
              "            '<a target=\"_blank\" href=https://colab.research.google.com/notebooks/data_table.ipynb>data table notebook</a>'\n",
              "            + ' to learn more about interactive tables.';\n",
              "          element.innerHTML = '';\n",
              "          dataTable['output_type'] = 'display_data';\n",
              "          await google.colab.output.renderOutput(dataTable, element);\n",
              "          const docLink = document.createElement('div');\n",
              "          docLink.innerHTML = docLinkHtml;\n",
              "          element.appendChild(docLink);\n",
              "        }\n",
              "      </script>\n",
              "    </div>\n",
              "  </div>\n",
              "  "
            ]
          },
          "metadata": {},
          "execution_count": 19
        }
      ]
    },
    {
      "cell_type": "markdown",
      "source": [
        "A continuación vamos a implementar dos medidas de desempeño:\n",
        "\n"
      ],
      "metadata": {
        "id": "PYLIsNcH9Z9l"
      }
    },
    {
      "cell_type": "code",
      "source": [
        "def mape(y_true, y_pred):\n",
        "    return round(np.mean(np.abs((y_true - y_pred) / y_true)) * 100, 2)"
      ],
      "metadata": {
        "id": "zF_yqZ8M8RPs"
      },
      "execution_count": 20,
      "outputs": []
    },
    {
      "cell_type": "code",
      "source": [
        "baseline_mape = mape(test_2['y'], test_2['baseline_pred'])\n",
        "dt_mape = mape(test_2['y'], test_2['dt_pred'])\n",
        "gbr_mape = mape(test_2['y'], test_2['gbr_pred'])\n",
        "# Generate bar plot\n",
        "fig, ax = plt.subplots(figsize=(7, 5))\n",
        "x = ['Baseline', 'Decision Tree', 'Gradient Boosting']\n",
        "y = [baseline_mape, dt_mape, gbr_mape]\n",
        "ax.bar(x, y, width=0.4)\n",
        "ax.set_xlabel('Regressor models')\n",
        "ax.set_ylabel('MAPE (%)')\n",
        "#ax.set_ylim(0, 0.3)\n",
        "for index, value in enumerate(y):\n",
        "    plt.text(x=index, y=value + 0.02, s=str(value), ha='center')\n",
        "    \n",
        "plt.tight_layout()"
      ],
      "metadata": {
        "id": "eQwNqJjm8S2M",
        "colab": {
          "base_uri": "https://localhost:8080/",
          "height": 507
        },
        "outputId": "483c7b08-2be3-4808-c4a9-6d1e8aad764f"
      },
      "execution_count": 21,
      "outputs": [
        {
          "output_type": "display_data",
          "data": {
            "text/plain": [
              "<Figure size 700x500 with 1 Axes>"
            ],
            "image/png": "[encoded data removed]"
          },
          "metadata": {}
        }
      ]
    },
    {
      "cell_type": "code",
      "source": [
        "from sklearn.metrics import r2_score\n",
        "baseline_r2 = r2_score(test_3_fill['sales'], test_3_fill['baseline_pred'])\n",
        "dt_r2 = r2_score(test_3_fill['sales'], test_3_fill['dt_pred'])\n",
        "gbr_r2 = r2_score(test_3_fill['sales'], test_3_fill['gbr_pred'])\n",
        "# Generate bar plot\n",
        "fig, ax = plt.subplots(figsize=(7, 5))\n",
        "x = ['Baseline', 'Decision Tree', 'Gradient Boosting']\n",
        "y = [baseline_r2, dt_r2, gbr_r2]\n",
        "ax.bar(x, y, width=0.4)\n",
        "ax.set_xlabel('Regressor models')\n",
        "ax.set_ylabel('R2 (%)')\n",
        "ax.set_ylim(0, 0.99)\n",
        "for index, value in enumerate(y):\n",
        "    plt.text(x=index, y=value + 0.02, s=str(value), ha='center')\n",
        "    \n",
        "plt.tight_layout()"
      ],
      "metadata": {
        "id": "pa2uLfYB8Uag",
        "colab": {
          "base_uri": "https://localhost:8080/",
          "height": 507
        },
        "outputId": "23220b4a-7be1-435c-9780-d918b6932c2a"
      },
      "execution_count": 22,
      "outputs": [
        {
          "output_type": "display_data",
          "data": {
            "text/plain": [
              "<Figure size 700x500 with 1 Axes>"
            ],
            "image/png": "[encoded data removed]"
          },
          "metadata": {}
        }
      ]
    },
    {
      "cell_type": "markdown",
      "source": [
        "Podemos observar que los modelos no superar la referencia."
      ],
      "metadata": {
        "id": "3qsee1yB9h2b"
      }
    },
    {
      "cell_type": "markdown",
      "source": [
        "##Predicción utilizando una secuencia de valores pasados:"
      ],
      "metadata": {
        "id": "hqi87_iL9lMi"
      }
    },
    {
      "cell_type": "markdown",
      "source": [
        "Lo que vamos a realizar a continuación es aumentar la ventana de observación para la entrada del modelo. Es decir, vamos a aumentar el número de características que ingresa al modelo. "
      ],
      "metadata": {
        "id": "QQEp1cdF9mv1"
      }
    },
    {
      "cell_type": "markdown",
      "source": [
        "![image.png](data:image/png;base64,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)"
      ],
      "metadata": {
        "id": "aGawljQw9pNA"
      }
    },
    {
      "cell_type": "markdown",
      "source": [
        "Revisemos la siguiente función que genera una matriz donde cada entrada tiene por ejemplo 5 muestras previas de la serie de tiempo para predecir el dato siguiente:"
      ],
      "metadata": {
        "id": "l7ZlVIzZ9qms"
      }
    },
    {
      "cell_type": "code",
      "source": [
        "def window_input(window_length: int, data: pd.DataFrame) -> pd.DataFrame:\n",
        "    \n",
        "    df = test_3_fill.copy()\n",
        "    \n",
        "    i = 1\n",
        "    while i < window_length:\n",
        "        df[f'x_{i}'] = df['sales'].shift(-i)\n",
        "        i = i + 1\n",
        "    \n",
        "    i = window_length\n",
        "    while i < window_length*2:\n",
        "        df[f'x_{i}'] = df['sales'].shift(-i)-df['sales']\n",
        "        i = i + 1\n",
        "        \n",
        "    if i == window_length*2:\n",
        "        df['y'] = df['sales'].shift(-i)\n",
        "        \n",
        "    # Drop rows where there is a NaN\n",
        "    df = df.dropna(axis=0)\n",
        "        \n",
        "    return df"
      ],
      "metadata": {
        "id": "I1v2O9-i9wII"
      },
      "execution_count": 23,
      "outputs": []
    },
    {
      "cell_type": "code",
      "source": [
        "new_df = window_input(10, test_3_fill)"
      ],
      "metadata": {
        "id": "2mx6cY0W9x3s"
      },
      "execution_count": 24,
      "outputs": []
    },
    {
      "cell_type": "code",
      "source": [
        "new_df.head(10)"
      ],
      "metadata": {
        "id": "dvvRVqsI90LU",
        "colab": {
          "base_uri": "https://localhost:8080/",
          "height": 423
        },
        "outputId": "412fc0db-e0f1-42ae-b5f1-93997acff28b"
      },
      "execution_count": 25,
      "outputs": [
        {
          "output_type": "execute_result",
          "data": {
            "text/plain": [
              "             sales  store_nbr       y      dt_pred     gbr_pred  \\\n",
              "date                                                              \n",
              "2017-08-14  1512.0         13  3948.0  2321.086957  2070.685216   \n",
              "2017-08-14  1440.0         14  1009.0  1576.655172  1997.622194   \n",
              "2017-08-14  1814.0         15  2405.0  1801.882353  2223.573538   \n",
              "2017-08-14  1739.0         16  2794.0  2088.062500  2139.833041   \n",
              "2017-08-14  3047.0         17  1294.0  2232.562500  2829.500638   \n",
              "2017-08-14  1996.0         18  3104.0  2375.954545  2292.979247   \n",
              "2017-08-14  2627.0         19  2600.0  2076.666667  2541.925750   \n",
              "2017-08-14  2559.0          2  1992.0  2301.833333  2541.925750   \n",
              "2017-08-14  4246.0         20  4419.0  4281.500000  3755.193475   \n",
              "2017-08-14  3493.0         21  2280.0  2467.000000  3152.037420   \n",
              "\n",
              "            baseline_pred     x_1     x_2     x_3     x_4  ...    x_10  \\\n",
              "date                                                       ...           \n",
              "2017-08-14         1512.0  1440.0  1814.0  1739.0  3047.0  ...   595.0   \n",
              "2017-08-14         1440.0  1814.0  1739.0  3047.0  1996.0  ...  -130.0   \n",
              "2017-08-14         1814.0  1739.0  3047.0  1996.0  2627.0  ...  1292.0   \n",
              "2017-08-14         1739.0  3047.0  1996.0  2627.0  2559.0  ...   451.0   \n",
              "2017-08-14         3047.0  1996.0  2627.0  2559.0  4246.0  ... -2494.0   \n",
              "2017-08-14         1996.0  2627.0  2559.0  4246.0  3493.0  ...  1385.0   \n",
              "2017-08-14         2627.0  2559.0  4246.0  3493.0  2107.0  ...   464.0   \n",
              "2017-08-14         2559.0  4246.0  3493.0  2107.0  1310.0  ...   117.0   \n",
              "2017-08-14         4246.0  3493.0  2107.0  1310.0  3106.0  ...  3613.0   \n",
              "2017-08-14         3493.0  2107.0  1310.0  3106.0  2190.0  ... -2318.0   \n",
              "\n",
              "              x_11    x_12    x_13    x_14    x_15    x_16    x_17    x_18  \\\n",
              "date                                                                         \n",
              "2017-08-14  -202.0  1594.0   678.0  -959.0  1869.0  1579.0  1164.0  6347.0   \n",
              "2017-08-14  1666.0   750.0  -887.0  1941.0  1651.0  1236.0  6419.0  -265.0   \n",
              "2017-08-14   376.0 -1261.0  1567.0  1277.0   862.0  6045.0  -639.0  2134.0   \n",
              "2017-08-14 -1186.0  1642.0  1352.0   937.0  6120.0  -564.0  2209.0  -730.0   \n",
              "2017-08-14   334.0    44.0  -371.0  4812.0 -1872.0   901.0 -2038.0  -642.0   \n",
              "2017-08-14  1095.0   680.0  5863.0  -821.0  1952.0  -987.0   409.0   798.0   \n",
              "2017-08-14    49.0  5232.0 -1452.0  1321.0 -1618.0  -222.0   167.0 -1333.0   \n",
              "2017-08-14  5300.0 -1384.0  1389.0 -1550.0  -154.0   235.0 -1265.0   545.0   \n",
              "2017-08-14 -3071.0  -298.0 -3237.0 -1841.0 -1452.0 -2952.0 -1142.0 -1646.0   \n",
              "2017-08-14   455.0 -2484.0 -1088.0  -699.0 -2199.0  -389.0  -893.0 -1501.0   \n",
              "\n",
              "              x_19  \n",
              "date                \n",
              "2017-08-14  -337.0  \n",
              "2017-08-14  2508.0  \n",
              "2017-08-14  -805.0  \n",
              "2017-08-14   666.0  \n",
              "2017-08-14  -253.0  \n",
              "2017-08-14  -702.0  \n",
              "2017-08-14   477.0  \n",
              "2017-08-14    41.0  \n",
              "2017-08-14 -2254.0  \n",
              "2017-08-14   926.0  \n",
              "\n",
              "[10 rows x 25 columns]"
            ],
            "text/html": [
              "\n",
              "  <div id=\"df-712ce5c4-1e70-480b-9dc3-3e73509f8c99\">\n",
              "    <div class=\"colab-df-container\">\n",
              "      <div>\n",
              "<style scoped>\n",
              "    .dataframe tbody tr th:only-of-type {\n",
              "        vertical-align: middle;\n",
              "    }\n",
              "\n",
              "    .dataframe tbody tr th {\n",
              "        vertical-align: top;\n",
              "    }\n",
              "\n",
              "    .dataframe thead th {\n",
              "        text-align: right;\n",
              "    }\n",
              "</style>\n",
              "<table border=\"1\" class=\"dataframe\">\n",
              "  <thead>\n",
              "    <tr style=\"text-align: right;\">\n",
              "      <th></th>\n",
              "      <th>sales</th>\n",
              "      <th>store_nbr</th>\n",
              "      <th>y</th>\n",
              "      <th>dt_pred</th>\n",
              "      <th>gbr_pred</th>\n",
              "      <th>baseline_pred</th>\n",
              "      <th>x_1</th>\n",
              "      <th>x_2</th>\n",
              "      <th>x_3</th>\n",
              "      <th>x_4</th>\n",
              "      <th>...</th>\n",
              "      <th>x_10</th>\n",
              "      <th>x_11</th>\n",
              "      <th>x_12</th>\n",
              "      <th>x_13</th>\n",
              "      <th>x_14</th>\n",
              "      <th>x_15</th>\n",
              "      <th>x_16</th>\n",
              "      <th>x_17</th>\n",
              "      <th>x_18</th>\n",
              "      <th>x_19</th>\n",
              "    </tr>\n",
              "    <tr>\n",
              "      <th>date</th>\n",
              "      <th></th>\n",
              "      <th></th>\n",
              "      <th></th>\n",
              "      <th></th>\n",
              "      <th></th>\n",
              "      <th></th>\n",
              "      <th></th>\n",
              "      <th></th>\n",
              "      <th></th>\n",
              "      <th></th>\n",
              "      <th></th>\n",
              "      <th></th>\n",
              "      <th></th>\n",
              "      <th></th>\n",
              "      <th></th>\n",
              "      <th></th>\n",
              "      <th></th>\n",
              "      <th></th>\n",
              "      <th></th>\n",
              "      <th></th>\n",
              "      <th></th>\n",
              "    </tr>\n",
              "  </thead>\n",
              "  <tbody>\n",
              "    <tr>\n",
              "      <th>2017-08-14</th>\n",
              "      <td>1512.0</td>\n",
              "      <td>13</td>\n",
              "      <td>3948.0</td>\n",
              "      <td>2321.086957</td>\n",
              "      <td>2070.685216</td>\n",
              "      <td>1512.0</td>\n",
              "      <td>1440.0</td>\n",
              "      <td>1814.0</td>\n",
              "      <td>1739.0</td>\n",
              "      <td>3047.0</td>\n",
              "      <td>...</td>\n",
              "      <td>595.0</td>\n",
              "      <td>-202.0</td>\n",
              "      <td>1594.0</td>\n",
              "      <td>678.0</td>\n",
              "      <td>-959.0</td>\n",
              "      <td>1869.0</td>\n",
              "      <td>1579.0</td>\n",
              "      <td>1164.0</td>\n",
              "      <td>6347.0</td>\n",
              "      <td>-337.0</td>\n",
              "    </tr>\n",
              "    <tr>\n",
              "      <th>2017-08-14</th>\n",
              "      <td>1440.0</td>\n",
              "      <td>14</td>\n",
              "      <td>1009.0</td>\n",
              "      <td>1576.655172</td>\n",
              "      <td>1997.622194</td>\n",
              "      <td>1440.0</td>\n",
              "      <td>1814.0</td>\n",
              "      <td>1739.0</td>\n",
              "      <td>3047.0</td>\n",
              "      <td>1996.0</td>\n",
              "      <td>...</td>\n",
              "      <td>-130.0</td>\n",
              "      <td>1666.0</td>\n",
              "      <td>750.0</td>\n",
              "      <td>-887.0</td>\n",
              "      <td>1941.0</td>\n",
              "      <td>1651.0</td>\n",
              "      <td>1236.0</td>\n",
              "      <td>6419.0</td>\n",
              "      <td>-265.0</td>\n",
              "      <td>2508.0</td>\n",
              "    </tr>\n",
              "    <tr>\n",
              "      <th>2017-08-14</th>\n",
              "      <td>1814.0</td>\n",
              "      <td>15</td>\n",
              "      <td>2405.0</td>\n",
              "      <td>1801.882353</td>\n",
              "      <td>2223.573538</td>\n",
              "      <td>1814.0</td>\n",
              "      <td>1739.0</td>\n",
              "      <td>3047.0</td>\n",
              "      <td>1996.0</td>\n",
              "      <td>2627.0</td>\n",
              "      <td>...</td>\n",
              "      <td>1292.0</td>\n",
              "      <td>376.0</td>\n",
              "      <td>-1261.0</td>\n",
              "      <td>1567.0</td>\n",
              "      <td>1277.0</td>\n",
              "      <td>862.0</td>\n",
              "      <td>6045.0</td>\n",
              "      <td>-639.0</td>\n",
              "      <td>2134.0</td>\n",
              "      <td>-805.0</td>\n",
              "    </tr>\n",
              "    <tr>\n",
              "      <th>2017-08-14</th>\n",
              "      <td>1739.0</td>\n",
              "      <td>16</td>\n",
              "      <td>2794.0</td>\n",
              "      <td>2088.062500</td>\n",
              "      <td>2139.833041</td>\n",
              "      <td>1739.0</td>\n",
              "      <td>3047.0</td>\n",
              "      <td>1996.0</td>\n",
              "      <td>2627.0</td>\n",
              "      <td>2559.0</td>\n",
              "      <td>...</td>\n",
              "      <td>451.0</td>\n",
              "      <td>-1186.0</td>\n",
              "      <td>1642.0</td>\n",
              "      <td>1352.0</td>\n",
              "      <td>937.0</td>\n",
              "      <td>6120.0</td>\n",
              "      <td>-564.0</td>\n",
              "      <td>2209.0</td>\n",
              "      <td>-730.0</td>\n",
              "      <td>666.0</td>\n",
              "    </tr>\n",
              "    <tr>\n",
              "      <th>2017-08-14</th>\n",
              "      <td>3047.0</td>\n",
              "      <td>17</td>\n",
              "      <td>1294.0</td>\n",
              "      <td>2232.562500</td>\n",
              "      <td>2829.500638</td>\n",
              "      <td>3047.0</td>\n",
              "      <td>1996.0</td>\n",
              "      <td>2627.0</td>\n",
              "      <td>2559.0</td>\n",
              "      <td>4246.0</td>\n",
              "      <td>...</td>\n",
              "      <td>-2494.0</td>\n",
              "      <td>334.0</td>\n",
              "      <td>44.0</td>\n",
              "      <td>-371.0</td>\n",
              "      <td>4812.0</td>\n",
              "      <td>-1872.0</td>\n",
              "      <td>901.0</td>\n",
              "      <td>-2038.0</td>\n",
              "      <td>-642.0</td>\n",
              "      <td>-253.0</td>\n",
              "    </tr>\n",
              "    <tr>\n",
              "      <th>2017-08-14</th>\n",
              "      <td>1996.0</td>\n",
              "      <td>18</td>\n",
              "      <td>3104.0</td>\n",
              "      <td>2375.954545</td>\n",
              "      <td>2292.979247</td>\n",
              "      <td>1996.0</td>\n",
              "      <td>2627.0</td>\n",
              "      <td>2559.0</td>\n",
              "      <td>4246.0</td>\n",
              "      <td>3493.0</td>\n",
              "      <td>...</td>\n",
              "      <td>1385.0</td>\n",
              "      <td>1095.0</td>\n",
              "      <td>680.0</td>\n",
              "      <td>5863.0</td>\n",
              "      <td>-821.0</td>\n",
              "      <td>1952.0</td>\n",
              "      <td>-987.0</td>\n",
              "      <td>409.0</td>\n",
              "      <td>798.0</td>\n",
              "      <td>-702.0</td>\n",
              "    </tr>\n",
              "    <tr>\n",
              "      <th>2017-08-14</th>\n",
              "      <td>2627.0</td>\n",
              "      <td>19</td>\n",
              "      <td>2600.0</td>\n",
              "      <td>2076.666667</td>\n",
              "      <td>2541.925750</td>\n",
              "      <td>2627.0</td>\n",
              "      <td>2559.0</td>\n",
              "      <td>4246.0</td>\n",
              "      <td>3493.0</td>\n",
              "      <td>2107.0</td>\n",
              "      <td>...</td>\n",
              "      <td>464.0</td>\n",
              "      <td>49.0</td>\n",
              "      <td>5232.0</td>\n",
              "      <td>-1452.0</td>\n",
              "      <td>1321.0</td>\n",
              "      <td>-1618.0</td>\n",
              "      <td>-222.0</td>\n",
              "      <td>167.0</td>\n",
              "      <td>-1333.0</td>\n",
              "      <td>477.0</td>\n",
              "    </tr>\n",
              "    <tr>\n",
              "      <th>2017-08-14</th>\n",
              "      <td>2559.0</td>\n",
              "      <td>2</td>\n",
              "      <td>1992.0</td>\n",
              "      <td>2301.833333</td>\n",
              "      <td>2541.925750</td>\n",
              "      <td>2559.0</td>\n",
              "      <td>4246.0</td>\n",
              "      <td>3493.0</td>\n",
              "      <td>2107.0</td>\n",
              "      <td>1310.0</td>\n",
              "      <td>...</td>\n",
              "      <td>117.0</td>\n",
              "      <td>5300.0</td>\n",
              "      <td>-1384.0</td>\n",
              "      <td>1389.0</td>\n",
              "      <td>-1550.0</td>\n",
              "      <td>-154.0</td>\n",
              "      <td>235.0</td>\n",
              "      <td>-1265.0</td>\n",
              "      <td>545.0</td>\n",
              "      <td>41.0</td>\n",
              "    </tr>\n",
              "    <tr>\n",
              "      <th>2017-08-14</th>\n",
              "      <td>4246.0</td>\n",
              "      <td>20</td>\n",
              "      <td>4419.0</td>\n",
              "      <td>4281.500000</td>\n",
              "      <td>3755.193475</td>\n",
              "      <td>4246.0</td>\n",
              "      <td>3493.0</td>\n",
              "      <td>2107.0</td>\n",
              "      <td>1310.0</td>\n",
              "      <td>3106.0</td>\n",
              "      <td>...</td>\n",
              "      <td>3613.0</td>\n",
              "      <td>-3071.0</td>\n",
              "      <td>-298.0</td>\n",
              "      <td>-3237.0</td>\n",
              "      <td>-1841.0</td>\n",
              "      <td>-1452.0</td>\n",
              "      <td>-2952.0</td>\n",
              "      <td>-1142.0</td>\n",
              "      <td>-1646.0</td>\n",
              "      <td>-2254.0</td>\n",
              "    </tr>\n",
              "    <tr>\n",
              "      <th>2017-08-14</th>\n",
              "      <td>3493.0</td>\n",
              "      <td>21</td>\n",
              "      <td>2280.0</td>\n",
              "      <td>2467.000000</td>\n",
              "      <td>3152.037420</td>\n",
              "      <td>3493.0</td>\n",
              "      <td>2107.0</td>\n",
              "      <td>1310.0</td>\n",
              "      <td>3106.0</td>\n",
              "      <td>2190.0</td>\n",
              "      <td>...</td>\n",
              "      <td>-2318.0</td>\n",
              "      <td>455.0</td>\n",
              "      <td>-2484.0</td>\n",
              "      <td>-1088.0</td>\n",
              "      <td>-699.0</td>\n",
              "      <td>-2199.0</td>\n",
              "      <td>-389.0</td>\n",
              "      <td>-893.0</td>\n",
              "      <td>-1501.0</td>\n",
              "      <td>926.0</td>\n",
              "    </tr>\n",
              "  </tbody>\n",
              "</table>\n",
              "<p>10 rows × 25 columns</p>\n",
              "</div>\n",
              "      <button class=\"colab-df-convert\" onclick=\"convertToInteractive('df-712ce5c4-1e70-480b-9dc3-3e73509f8c99')\"\n",
              "              title=\"Convert this dataframe to an interactive table.\"\n",
              "              style=\"display:none;\">\n",
              "        \n",
              "  <svg xmlns=\"http://www.w3.org/2000/svg\" height=\"24px\"viewBox=\"0 0 24 24\"\n",
              "       width=\"24px\">\n",
              "    <path d=\"M0 0h24v24H0V0z\" fill=\"none\"/>\n",
              "    <path d=\"M18.56 5.44l.94 2.06.94-2.06 2.06-.94-2.06-.94-.94-2.06-.94 2.06-2.06.94zm-11 1L8.5 8.5l.94-2.06 2.06-.94-2.06-.94L8.5 2.5l-.94 2.06-2.06.94zm10 10l.94 2.06.94-2.06 2.06-.94-2.06-.94-.94-2.06-.94 2.06-2.06.94z\"/><path d=\"M17.41 7.96l-1.37-1.37c-.4-.4-.92-.59-1.43-.59-.52 0-1.04.2-1.43.59L10.3 9.45l-7.72 7.72c-.78.78-.78 2.05 0 2.83L4 21.41c.39.39.9.59 1.41.59.51 0 1.02-.2 1.41-.59l7.78-7.78 2.81-2.81c.8-.78.8-2.07 0-2.86zM5.41 20L4 18.59l7.72-7.72 1.47 1.35L5.41 20z\"/>\n",
              "  </svg>\n",
              "      </button>\n",
              "      \n",
              "  <style>\n",
              "    .colab-df-container {\n",
              "      display:flex;\n",
              "      flex-wrap:wrap;\n",
              "      gap: 12px;\n",
              "    }\n",
              "\n",
              "    .colab-df-convert {\n",
              "      background-color: #E8F0FE;\n",
              "      border: none;\n",
              "      border-radius: 50%;\n",
              "      cursor: pointer;\n",
              "      display: none;\n",
              "      fill: #1967D2;\n",
              "      height: 32px;\n",
              "      padding: 0 0 0 0;\n",
              "      width: 32px;\n",
              "    }\n",
              "\n",
              "    .colab-df-convert:hover {\n",
              "      background-color: #E2EBFA;\n",
              "      box-shadow: 0px 1px 2px rgba(60, 64, 67, 0.3), 0px 1px 3px 1px rgba(60, 64, 67, 0.15);\n",
              "      fill: #174EA6;\n",
              "    }\n",
              "\n",
              "    [theme=dark] .colab-df-convert {\n",
              "      background-color: #3B4455;\n",
              "      fill: #D2E3FC;\n",
              "    }\n",
              "\n",
              "    [theme=dark] .colab-df-convert:hover {\n",
              "      background-color: #434B5C;\n",
              "      box-shadow: 0px 1px 3px 1px rgba(0, 0, 0, 0.15);\n",
              "      filter: drop-shadow(0px 1px 2px rgba(0, 0, 0, 0.3));\n",
              "      fill: #FFFFFF;\n",
              "    }\n",
              "  </style>\n",
              "\n",
              "      <script>\n",
              "        const buttonEl =\n",
              "          document.querySelector('#df-712ce5c4-1e70-480b-9dc3-3e73509f8c99 button.colab-df-convert');\n",
              "        buttonEl.style.display =\n",
              "          google.colab.kernel.accessAllowed ? 'block' : 'none';\n",
              "\n",
              "        async function convertToInteractive(key) {\n",
              "          const element = document.querySelector('#df-712ce5c4-1e70-480b-9dc3-3e73509f8c99');\n",
              "          const dataTable =\n",
              "            await google.colab.kernel.invokeFunction('convertToInteractive',\n",
              "                                                     [key], {});\n",
              "          if (!dataTable) return;\n",
              "\n",
              "          const docLinkHtml = 'Like what you see? Visit the ' +\n",
              "            '<a target=\"_blank\" href=https://colab.research.google.com/notebooks/data_table.ipynb>data table notebook</a>'\n",
              "            + ' to learn more about interactive tables.';\n",
              "          element.innerHTML = '';\n",
              "          dataTable['output_type'] = 'display_data';\n",
              "          await google.colab.output.renderOutput(dataTable, element);\n",
              "          const docLink = document.createElement('div');\n",
              "          docLink.innerHTML = docLinkHtml;\n",
              "          element.appendChild(docLink);\n",
              "        }\n",
              "      </script>\n",
              "    </div>\n",
              "  </div>\n",
              "  "
            ]
          },
          "metadata": {},
          "execution_count": 25
        }
      ]
    },
    {
      "cell_type": "markdown",
      "source": [
        "A continuación extraemos la variables de entrada y la salida para entrenar el modelo y separamos entre un conjunto de test y de entrenamiento:"
      ],
      "metadata": {
        "id": "xocGQRSm92Lr"
      }
    },
    {
      "cell_type": "code",
      "source": [
        "from sklearn.model_selection import train_test_split\n",
        "\n",
        "X = new_df.drop('y',axis=1).values\n",
        "y = new_df['y'].values\n",
        "\n",
        "X_train, X_test, y_train, y_test = train_test_split(X, y, test_size=0.3, random_state=42, shuffle=False)"
      ],
      "metadata": {
        "id": "FHIzcZQ595EV"
      },
      "execution_count": 26,
      "outputs": []
    },
    {
      "cell_type": "markdown",
      "source": [
        "En este caso como predictor de referencia vamos a utilizar un modelo donde el dato futuro se predice como la media de los datos observados."
      ],
      "metadata": {
        "id": "VxDEQFo197uV"
      }
    },
    {
      "cell_type": "code",
      "source": [
        "baseline_pred = []\n",
        "\n",
        "for row in X_test:\n",
        "    baseline_pred.append(np.mean(row))"
      ],
      "metadata": {
        "id": "mmQOU6qV99n8"
      },
      "execution_count": 27,
      "outputs": []
    },
    {
      "cell_type": "code",
      "source": [
        "gbr_5 = GradientBoostingRegressor(random_state=42)\n",
        "\n",
        "gbr_5.fit(X_train, y_train.ravel())\n",
        "\n",
        "gbr_5_pred = gbr_5.predict(X_test)"
      ],
      "metadata": {
        "id": "PkVSYecZ-CHr"
      },
      "execution_count": 28,
      "outputs": []
    },
    {
      "cell_type": "markdown",
      "source": [
        "Revisemos la métricas de desempeño:"
      ],
      "metadata": {
        "id": "W-P5ETug-EDh"
      }
    },
    {
      "cell_type": "code",
      "source": [
        "baseline_mape = mape(y_test, baseline_pred)\n",
        "dt_5_mape = mape(y_test, gbr_5_pred)\n",
        "gbr_5_mape = mape(y_test, gbr_5_pred)\n",
        "# Generate the bar plot\n",
        "fig, ax = plt.subplots()\n",
        "\n",
        "x = ['Baseline', 'Decision Tree', 'Gradient Boosting']\n",
        "y = [baseline_mape, dt_5_mape, gbr_5_mape]\n",
        "\n",
        "ax.bar(x, y, width=0.4)\n",
        "ax.set_xlabel('Regressor models')\n",
        "ax.set_ylabel('MAPE (%)')\n",
        "#ax.set_ylim(0, 5)\n",
        "\n",
        "for index, value in enumerate(y):\n",
        "    plt.text(x=index, y=value + 0.1, s=str(value), ha='center')\n",
        "    \n",
        "plt.tight_layout()"
      ],
      "metadata": {
        "id": "ksqCjY70-Ffi",
        "colab": {
          "base_uri": "https://localhost:8080/",
          "height": 487
        },
        "outputId": "306f8b16-b7c7-471a-e4e6-5b6aa9ff06ce"
      },
      "execution_count": 29,
      "outputs": [
        {
          "output_type": "display_data",
          "data": {
            "text/plain": [
              "<Figure size 640x480 with 1 Axes>"
            ],
            "image/png": "[encoded data removed]"
          },
          "metadata": {}
        }
      ]
    },
    {
      "cell_type": "code",
      "source": [
        "baseline_r2 = r2_score(y_test, baseline_pred)\n",
        "dt_5_r2 = r2_score(y_test, gbr_5_pred)\n",
        "gbr_5_r2 = r2_score(y_test, gbr_5_pred)\n",
        "# Generate the bar plot\n",
        "fig, ax = plt.subplots()\n",
        "\n",
        "x = ['Baseline', 'Decision Tree', 'Gradient Boosting']\n",
        "y = [baseline_r2, dt_5_r2, gbr_5_r2]\n",
        "\n",
        "ax.bar(x, y, width=0.4)\n",
        "ax.set_xlabel('Regressor models')\n",
        "ax.set_ylabel('R2 (%)')\n",
        "#ax.set_ylim(0, 2.5)\n",
        "\n",
        "for index, value in enumerate(y):\n",
        "    plt.text(x=index, y=value + 0.1, s=str(value), ha='center')\n",
        "    \n",
        "plt.tight_layout()"
      ],
      "metadata": {
        "id": "4SlrgK2E-HDZ",
        "colab": {
          "base_uri": "https://localhost:8080/",
          "height": 487
        },
        "outputId": "f8002bfa-16b9-4cf3-f6b7-2e8a049a20b7"
      },
      "execution_count": 30,
      "outputs": [
        {
          "output_type": "display_data",
          "data": {
            "text/plain": [
              "<Figure size 640x480 with 1 Axes>"
            ],
            "image/png": "[encoded data removed]"
          },
          "metadata": {}
        }
      ]
    },
    {
      "cell_type": "markdown",
      "source": [
        "Observemos que todavia es desempeño no supera el predictor de referencia. Lo que vamos a realizar a continuación es aumentar la ventana e igualmente aumentar la ventana de predicción. En este tipo de aplicaciones la ventana de observación puede ser considerado un hiperparámetro y debe ser ajustado."
      ],
      "metadata": {
        "id": "mzIr7lb4-I-U"
      }
    },
    {
      "cell_type": "markdown",
      "source": [
        "A continuación entrenamos los modelos:\n"
      ],
      "metadata": {
        "id": "UO7GCXRf9_a_"
      }
    },
    {
      "cell_type": "code",
      "source": [
        "dt_reg_5 = DecisionTreeRegressor(random_state=42)\n",
        "\n",
        "dt_reg_5.fit(X_train, y_train)\n",
        "\n",
        "dt_reg_5_pred = dt_reg_5.predict(X_test)"
      ],
      "metadata": {
        "id": "tTdLXJNV-A8G"
      },
      "execution_count": 31,
      "outputs": []
    },
    {
      "cell_type": "markdown",
      "source": [
        "# Análisis de la segunda tienda"
      ],
      "metadata": {
        "id": "wqnz-wVe2fJy"
      }
    },
    {
      "cell_type": "code",
      "source": [
        "data_duo_train = pd.DataFrame()\n",
        "data_duo_train['date'] = pd.to_datetime(beauty_data_train['date'])\n",
        "data_duo_train['sales'] = beauty_data_train['sales']\n",
        "data_duo_train.loc[beauty_data_train['store_nbr'] == '2']\n",
        "data_duo_train.set_index('date', inplace=True)\n",
        "data_duo_train.head()"
      ],
      "metadata": {
        "id": "_kdwRoPr2oQl",
        "colab": {
          "base_uri": "https://localhost:8080/",
          "height": 237
        },
        "outputId": "b0a67152-31a7-43c8-e2e4-a2c49020aa47"
      },
      "execution_count": 32,
      "outputs": [
        {
          "output_type": "execute_result",
          "data": {
            "text/plain": [
              "            sales\n",
              "date             \n",
              "2013-01-01    0.0\n",
              "2013-01-01    0.0\n",
              "2013-01-01    0.0\n",
              "2013-01-01    0.0\n",
              "2013-01-01    0.0"
            ],
            "text/html": [
              "\n",
              "  <div id=\"df-ef497ca5-31e5-4827-8c30-02cd5a1176db\">\n",
              "    <div class=\"colab-df-container\">\n",
              "      <div>\n",
              "<style scoped>\n",
              "    .dataframe tbody tr th:only-of-type {\n",
              "        vertical-align: middle;\n",
              "    }\n",
              "\n",
              "    .dataframe tbody tr th {\n",
              "        vertical-align: top;\n",
              "    }\n",
              "\n",
              "    .dataframe thead th {\n",
              "        text-align: right;\n",
              "    }\n",
              "</style>\n",
              "<table border=\"1\" class=\"dataframe\">\n",
              "  <thead>\n",
              "    <tr style=\"text-align: right;\">\n",
              "      <th></th>\n",
              "      <th>sales</th>\n",
              "    </tr>\n",
              "    <tr>\n",
              "      <th>date</th>\n",
              "      <th></th>\n",
              "    </tr>\n",
              "  </thead>\n",
              "  <tbody>\n",
              "    <tr>\n",
              "      <th>2013-01-01</th>\n",
              "      <td>0.0</td>\n",
              "    </tr>\n",
              "    <tr>\n",
              "      <th>2013-01-01</th>\n",
              "      <td>0.0</td>\n",
              "    </tr>\n",
              "    <tr>\n",
              "      <th>2013-01-01</th>\n",
              "      <td>0.0</td>\n",
              "    </tr>\n",
              "    <tr>\n",
              "      <th>2013-01-01</th>\n",
              "      <td>0.0</td>\n",
              "    </tr>\n",
              "    <tr>\n",
              "      <th>2013-01-01</th>\n",
              "      <td>0.0</td>\n",
              "    </tr>\n",
              "  </tbody>\n",
              "</table>\n",
              "</div>\n",
              "      <button class=\"colab-df-convert\" onclick=\"convertToInteractive('df-ef497ca5-31e5-4827-8c30-02cd5a1176db')\"\n",
              "              title=\"Convert this dataframe to an interactive table.\"\n",
              "              style=\"display:none;\">\n",
              "        \n",
              "  <svg xmlns=\"http://www.w3.org/2000/svg\" height=\"24px\"viewBox=\"0 0 24 24\"\n",
              "       width=\"24px\">\n",
              "    <path d=\"M0 0h24v24H0V0z\" fill=\"none\"/>\n",
              "    <path d=\"M18.56 5.44l.94 2.06.94-2.06 2.06-.94-2.06-.94-.94-2.06-.94 2.06-2.06.94zm-11 1L8.5 8.5l.94-2.06 2.06-.94-2.06-.94L8.5 2.5l-.94 2.06-2.06.94zm10 10l.94 2.06.94-2.06 2.06-.94-2.06-.94-.94-2.06-.94 2.06-2.06.94z\"/><path d=\"M17.41 7.96l-1.37-1.37c-.4-.4-.92-.59-1.43-.59-.52 0-1.04.2-1.43.59L10.3 9.45l-7.72 7.72c-.78.78-.78 2.05 0 2.83L4 21.41c.39.39.9.59 1.41.59.51 0 1.02-.2 1.41-.59l7.78-7.78 2.81-2.81c.8-.78.8-2.07 0-2.86zM5.41 20L4 18.59l7.72-7.72 1.47 1.35L5.41 20z\"/>\n",
              "  </svg>\n",
              "      </button>\n",
              "      \n",
              "  <style>\n",
              "    .colab-df-container {\n",
              "      display:flex;\n",
              "      flex-wrap:wrap;\n",
              "      gap: 12px;\n",
              "    }\n",
              "\n",
              "    .colab-df-convert {\n",
              "      background-color: #E8F0FE;\n",
              "      border: none;\n",
              "      border-radius: 50%;\n",
              "      cursor: pointer;\n",
              "      display: none;\n",
              "      fill: #1967D2;\n",
              "      height: 32px;\n",
              "      padding: 0 0 0 0;\n",
              "      width: 32px;\n",
              "    }\n",
              "\n",
              "    .colab-df-convert:hover {\n",
              "      background-color: #E2EBFA;\n",
              "      box-shadow: 0px 1px 2px rgba(60, 64, 67, 0.3), 0px 1px 3px 1px rgba(60, 64, 67, 0.15);\n",
              "      fill: #174EA6;\n",
              "    }\n",
              "\n",
              "    [theme=dark] .colab-df-convert {\n",
              "      background-color: #3B4455;\n",
              "      fill: #D2E3FC;\n",
              "    }\n",
              "\n",
              "    [theme=dark] .colab-df-convert:hover {\n",
              "      background-color: #434B5C;\n",
              "      box-shadow: 0px 1px 3px 1px rgba(0, 0, 0, 0.15);\n",
              "      filter: drop-shadow(0px 1px 2px rgba(0, 0, 0, 0.3));\n",
              "      fill: #FFFFFF;\n",
              "    }\n",
              "  </style>\n",
              "\n",
              "      <script>\n",
              "        const buttonEl =\n",
              "          document.querySelector('#df-ef497ca5-31e5-4827-8c30-02cd5a1176db button.colab-df-convert');\n",
              "        buttonEl.style.display =\n",
              "          google.colab.kernel.accessAllowed ? 'block' : 'none';\n",
              "\n",
              "        async function convertToInteractive(key) {\n",
              "          const element = document.querySelector('#df-ef497ca5-31e5-4827-8c30-02cd5a1176db');\n",
              "          const dataTable =\n",
              "            await google.colab.kernel.invokeFunction('convertToInteractive',\n",
              "                                                     [key], {});\n",
              "          if (!dataTable) return;\n",
              "\n",
              "          const docLinkHtml = 'Like what you see? Visit the ' +\n",
              "            '<a target=\"_blank\" href=https://colab.research.google.com/notebooks/data_table.ipynb>data table notebook</a>'\n",
              "            + ' to learn more about interactive tables.';\n",
              "          element.innerHTML = '';\n",
              "          dataTable['output_type'] = 'display_data';\n",
              "          await google.colab.output.renderOutput(dataTable, element);\n",
              "          const docLink = document.createElement('div');\n",
              "          docLink.innerHTML = docLinkHtml;\n",
              "          element.appendChild(docLink);\n",
              "        }\n",
              "      </script>\n",
              "    </div>\n",
              "  </div>\n",
              "  "
            ]
          },
          "metadata": {},
          "execution_count": 32
        }
      ]
    },
    {
      "cell_type": "code",
      "source": [
        "fig, ax = plt.subplots(figsize=(16, 11))\n",
        "ax.plot(data_duo_train['sales'])\n",
        "ax.set_xlabel('Time')\n",
        "ax.set_ylabel('Sales')\n",
        "fig.autofmt_xdate()\n",
        "plt.tight_layout()"
      ],
      "metadata": {
        "id": "ftlgXTqXI9DI",
        "colab": {
          "base_uri": "https://localhost:8080/",
          "height": 1000
        },
        "outputId": "e8dacd07-955a-4082-f255-eb98d4d85160"
      },
      "execution_count": 33,
      "outputs": [
        {
          "output_type": "display_data",
          "data": {
            "text/plain": [
              "<Figure size 1600x1100 with 1 Axes>"
            ],
            "image/png": "[encoded data removed]"
          },
          "metadata": {}
        }
      ]
    },
    {
      "cell_type": "markdown",
      "source": [
        "Observemos que en una serie de tiempo tenemos los indices en formato de fecha y la variable del store bnr. Si queremos implementar un algoritmo de regresión basado en aprendizaje supervisado, necesitamos tener además de los datos de entrada un vector de etiquetas o datos de salida (y). Vamos a ver varias alternativas:"
      ],
      "metadata": {
        "id": "SlwjSBeCJfZg"
      }
    },
    {
      "cell_type": "markdown",
      "source": [
        "## Predecir cada dato siguiente a partir de una observación previa."
      ],
      "metadata": {
        "id": "m0oNOEn-Jq9u"
      }
    },
    {
      "cell_type": "markdown",
      "source": [
        "![image.png](data:image/png;base64,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)"
      ],
      "metadata": {
        "id": "QLGVK4fAJwaM"
      }
    },
    {
      "cell_type": "markdown",
      "source": [
        "Este es un modelo muy básico porque es dificil que se pueda predecir un dato solo a partir de una observación previa. Mas adelante veremos esta implementación pero con una ventana de observación mayor. Lo importante es que debemos generar una matriz con los datos de entrada y de salida para poder trabajar el esquema tal cual como se ha revisado anteriormente para problemas de clasificación supervisada."
      ],
      "metadata": {
        "id": "zQ0sUOZJJ2pV"
      }
    },
    {
      "cell_type": "markdown",
      "source": [
        "Vamos a adicionar una columna equivalente a la salida que se va a predecir. Para esto se utiliza el método *shift*."
      ],
      "metadata": {
        "id": "DqR3qEM_J7iq"
      }
    },
    {
      "cell_type": "code",
      "source": [
        "data_duo_train = data_duo_train.copy()\n",
        "data_duo_train = data_duo_train.fillna(0)\n",
        "data_duo_train['y'] = data_duo_train['sales'].shift(-1)\n",
        "data_duo_train.head()"
      ],
      "metadata": {
        "id": "hhYDoyiTKEZY",
        "colab": {
          "base_uri": "https://localhost:8080/",
          "height": 237
        },
        "outputId": "64310f29-c7c2-4402-8b30-de53777af50b"
      },
      "execution_count": 34,
      "outputs": [
        {
          "output_type": "execute_result",
          "data": {
            "text/plain": [
              "            sales    y\n",
              "date                  \n",
              "2013-01-01    0.0  0.0\n",
              "2013-01-01    0.0  0.0\n",
              "2013-01-01    0.0  0.0\n",
              "2013-01-01    0.0  0.0\n",
              "2013-01-01    0.0  0.0"
            ],
            "text/html": [
              "\n",
              "  <div id=\"df-686ede8d-8b38-4fef-be3d-c8f35aa845e8\">\n",
              "    <div class=\"colab-df-container\">\n",
              "      <div>\n",
              "<style scoped>\n",
              "    .dataframe tbody tr th:only-of-type {\n",
              "        vertical-align: middle;\n",
              "    }\n",
              "\n",
              "    .dataframe tbody tr th {\n",
              "        vertical-align: top;\n",
              "    }\n",
              "\n",
              "    .dataframe thead th {\n",
              "        text-align: right;\n",
              "    }\n",
              "</style>\n",
              "<table border=\"1\" class=\"dataframe\">\n",
              "  <thead>\n",
              "    <tr style=\"text-align: right;\">\n",
              "      <th></th>\n",
              "      <th>sales</th>\n",
              "      <th>y</th>\n",
              "    </tr>\n",
              "    <tr>\n",
              "      <th>date</th>\n",
              "      <th></th>\n",
              "      <th></th>\n",
              "    </tr>\n",
              "  </thead>\n",
              "  <tbody>\n",
              "    <tr>\n",
              "      <th>2013-01-01</th>\n",
              "      <td>0.0</td>\n",
              "      <td>0.0</td>\n",
              "    </tr>\n",
              "    <tr>\n",
              "      <th>2013-01-01</th>\n",
              "      <td>0.0</td>\n",
              "      <td>0.0</td>\n",
              "    </tr>\n",
              "    <tr>\n",
              "      <th>2013-01-01</th>\n",
              "      <td>0.0</td>\n",
              "      <td>0.0</td>\n",
              "    </tr>\n",
              "    <tr>\n",
              "      <th>2013-01-01</th>\n",
              "      <td>0.0</td>\n",
              "      <td>0.0</td>\n",
              "    </tr>\n",
              "    <tr>\n",
              "      <th>2013-01-01</th>\n",
              "      <td>0.0</td>\n",
              "      <td>0.0</td>\n",
              "    </tr>\n",
              "  </tbody>\n",
              "</table>\n",
              "</div>\n",
              "      <button class=\"colab-df-convert\" onclick=\"convertToInteractive('df-686ede8d-8b38-4fef-be3d-c8f35aa845e8')\"\n",
              "              title=\"Convert this dataframe to an interactive table.\"\n",
              "              style=\"display:none;\">\n",
              "        \n",
              "  <svg xmlns=\"http://www.w3.org/2000/svg\" height=\"24px\"viewBox=\"0 0 24 24\"\n",
              "       width=\"24px\">\n",
              "    <path d=\"M0 0h24v24H0V0z\" fill=\"none\"/>\n",
              "    <path d=\"M18.56 5.44l.94 2.06.94-2.06 2.06-.94-2.06-.94-.94-2.06-.94 2.06-2.06.94zm-11 1L8.5 8.5l.94-2.06 2.06-.94-2.06-.94L8.5 2.5l-.94 2.06-2.06.94zm10 10l.94 2.06.94-2.06 2.06-.94-2.06-.94-.94-2.06-.94 2.06-2.06.94z\"/><path d=\"M17.41 7.96l-1.37-1.37c-.4-.4-.92-.59-1.43-.59-.52 0-1.04.2-1.43.59L10.3 9.45l-7.72 7.72c-.78.78-.78 2.05 0 2.83L4 21.41c.39.39.9.59 1.41.59.51 0 1.02-.2 1.41-.59l7.78-7.78 2.81-2.81c.8-.78.8-2.07 0-2.86zM5.41 20L4 18.59l7.72-7.72 1.47 1.35L5.41 20z\"/>\n",
              "  </svg>\n",
              "      </button>\n",
              "      \n",
              "  <style>\n",
              "    .colab-df-container {\n",
              "      display:flex;\n",
              "      flex-wrap:wrap;\n",
              "      gap: 12px;\n",
              "    }\n",
              "\n",
              "    .colab-df-convert {\n",
              "      background-color: #E8F0FE;\n",
              "      border: none;\n",
              "      border-radius: 50%;\n",
              "      cursor: pointer;\n",
              "      display: none;\n",
              "      fill: #1967D2;\n",
              "      height: 32px;\n",
              "      padding: 0 0 0 0;\n",
              "      width: 32px;\n",
              "    }\n",
              "\n",
              "    .colab-df-convert:hover {\n",
              "      background-color: #E2EBFA;\n",
              "      box-shadow: 0px 1px 2px rgba(60, 64, 67, 0.3), 0px 1px 3px 1px rgba(60, 64, 67, 0.15);\n",
              "      fill: #174EA6;\n",
              "    }\n",
              "\n",
              "    [theme=dark] .colab-df-convert {\n",
              "      background-color: #3B4455;\n",
              "      fill: #D2E3FC;\n",
              "    }\n",
              "\n",
              "    [theme=dark] .colab-df-convert:hover {\n",
              "      background-color: #434B5C;\n",
              "      box-shadow: 0px 1px 3px 1px rgba(0, 0, 0, 0.15);\n",
              "      filter: drop-shadow(0px 1px 2px rgba(0, 0, 0, 0.3));\n",
              "      fill: #FFFFFF;\n",
              "    }\n",
              "  </style>\n",
              "\n",
              "      <script>\n",
              "        const buttonEl =\n",
              "          document.querySelector('#df-686ede8d-8b38-4fef-be3d-c8f35aa845e8 button.colab-df-convert');\n",
              "        buttonEl.style.display =\n",
              "          google.colab.kernel.accessAllowed ? 'block' : 'none';\n",
              "\n",
              "        async function convertToInteractive(key) {\n",
              "          const element = document.querySelector('#df-686ede8d-8b38-4fef-be3d-c8f35aa845e8');\n",
              "          const dataTable =\n",
              "            await google.colab.kernel.invokeFunction('convertToInteractive',\n",
              "                                                     [key], {});\n",
              "          if (!dataTable) return;\n",
              "\n",
              "          const docLinkHtml = 'Like what you see? Visit the ' +\n",
              "            '<a target=\"_blank\" href=https://colab.research.google.com/notebooks/data_table.ipynb>data table notebook</a>'\n",
              "            + ' to learn more about interactive tables.';\n",
              "          element.innerHTML = '';\n",
              "          dataTable['output_type'] = 'display_data';\n",
              "          await google.colab.output.renderOutput(dataTable, element);\n",
              "          const docLink = document.createElement('div');\n",
              "          docLink.innerHTML = docLinkHtml;\n",
              "          element.appendChild(docLink);\n",
              "        }\n",
              "      </script>\n",
              "    </div>\n",
              "  </div>\n",
              "  "
            ]
          },
          "metadata": {},
          "execution_count": 34
        }
      ]
    },
    {
      "cell_type": "code",
      "source": [
        "train = data_duo_train[:-104]\n",
        "test = data_duo_train[-104:]"
      ],
      "metadata": {
        "id": "EAyKq0McCc52"
      },
      "execution_count": 35,
      "outputs": []
    },
    {
      "cell_type": "code",
      "source": [
        "test"
      ],
      "metadata": {
        "colab": {
          "base_uri": "https://localhost:8080/",
          "height": 455
        },
        "id": "tu6baHklF68q",
        "outputId": "b985d220-1c42-4dfc-88da-9f2759edc5cf"
      },
      "execution_count": 36,
      "outputs": [
        {
          "output_type": "execute_result",
          "data": {
            "text/plain": [
              "            sales     y\n",
              "date                   \n",
              "2017-08-14    5.0   2.0\n",
              "2017-08-14    2.0   3.0\n",
              "2017-08-14    3.0   0.0\n",
              "2017-08-14    0.0   3.0\n",
              "2017-08-14    3.0   2.0\n",
              "...           ...   ...\n",
              "2017-08-15    0.0   6.0\n",
              "2017-08-15    6.0  11.0\n",
              "2017-08-15   11.0   8.0\n",
              "2017-08-15    8.0  10.0\n",
              "2017-08-15   10.0   NaN\n",
              "\n",
              "[104 rows x 2 columns]"
            ],
            "text/html": [
              "\n",
              "  <div id=\"df-da929ffb-d189-4a03-848c-ab9fb097ecfa\">\n",
              "    <div class=\"colab-df-container\">\n",
              "      <div>\n",
              "<style scoped>\n",
              "    .dataframe tbody tr th:only-of-type {\n",
              "        vertical-align: middle;\n",
              "    }\n",
              "\n",
              "    .dataframe tbody tr th {\n",
              "        vertical-align: top;\n",
              "    }\n",
              "\n",
              "    .dataframe thead th {\n",
              "        text-align: right;\n",
              "    }\n",
              "</style>\n",
              "<table border=\"1\" class=\"dataframe\">\n",
              "  <thead>\n",
              "    <tr style=\"text-align: right;\">\n",
              "      <th></th>\n",
              "      <th>sales</th>\n",
              "      <th>y</th>\n",
              "    </tr>\n",
              "    <tr>\n",
              "      <th>date</th>\n",
              "      <th></th>\n",
              "      <th></th>\n",
              "    </tr>\n",
              "  </thead>\n",
              "  <tbody>\n",
              "    <tr>\n",
              "      <th>2017-08-14</th>\n",
              "      <td>5.0</td>\n",
              "      <td>2.0</td>\n",
              "    </tr>\n",
              "    <tr>\n",
              "      <th>2017-08-14</th>\n",
              "      <td>2.0</td>\n",
              "      <td>3.0</td>\n",
              "    </tr>\n",
              "    <tr>\n",
              "      <th>2017-08-14</th>\n",
              "      <td>3.0</td>\n",
              "      <td>0.0</td>\n",
              "    </tr>\n",
              "    <tr>\n",
              "      <th>2017-08-14</th>\n",
              "      <td>0.0</td>\n",
              "      <td>3.0</td>\n",
              "    </tr>\n",
              "    <tr>\n",
              "      <th>2017-08-14</th>\n",
              "      <td>3.0</td>\n",
              "      <td>2.0</td>\n",
              "    </tr>\n",
              "    <tr>\n",
              "      <th>...</th>\n",
              "      <td>...</td>\n",
              "      <td>...</td>\n",
              "    </tr>\n",
              "    <tr>\n",
              "      <th>2017-08-15</th>\n",
              "      <td>0.0</td>\n",
              "      <td>6.0</td>\n",
              "    </tr>\n",
              "    <tr>\n",
              "      <th>2017-08-15</th>\n",
              "      <td>6.0</td>\n",
              "      <td>11.0</td>\n",
              "    </tr>\n",
              "    <tr>\n",
              "      <th>2017-08-15</th>\n",
              "      <td>11.0</td>\n",
              "      <td>8.0</td>\n",
              "    </tr>\n",
              "    <tr>\n",
              "      <th>2017-08-15</th>\n",
              "      <td>8.0</td>\n",
              "      <td>10.0</td>\n",
              "    </tr>\n",
              "    <tr>\n",
              "      <th>2017-08-15</th>\n",
              "      <td>10.0</td>\n",
              "      <td>NaN</td>\n",
              "    </tr>\n",
              "  </tbody>\n",
              "</table>\n",
              "<p>104 rows × 2 columns</p>\n",
              "</div>\n",
              "      <button class=\"colab-df-convert\" onclick=\"convertToInteractive('df-da929ffb-d189-4a03-848c-ab9fb097ecfa')\"\n",
              "              title=\"Convert this dataframe to an interactive table.\"\n",
              "              style=\"display:none;\">\n",
              "        \n",
              "  <svg xmlns=\"http://www.w3.org/2000/svg\" height=\"24px\"viewBox=\"0 0 24 24\"\n",
              "       width=\"24px\">\n",
              "    <path d=\"M0 0h24v24H0V0z\" fill=\"none\"/>\n",
              "    <path d=\"M18.56 5.44l.94 2.06.94-2.06 2.06-.94-2.06-.94-.94-2.06-.94 2.06-2.06.94zm-11 1L8.5 8.5l.94-2.06 2.06-.94-2.06-.94L8.5 2.5l-.94 2.06-2.06.94zm10 10l.94 2.06.94-2.06 2.06-.94-2.06-.94-.94-2.06-.94 2.06-2.06.94z\"/><path d=\"M17.41 7.96l-1.37-1.37c-.4-.4-.92-.59-1.43-.59-.52 0-1.04.2-1.43.59L10.3 9.45l-7.72 7.72c-.78.78-.78 2.05 0 2.83L4 21.41c.39.39.9.59 1.41.59.51 0 1.02-.2 1.41-.59l7.78-7.78 2.81-2.81c.8-.78.8-2.07 0-2.86zM5.41 20L4 18.59l7.72-7.72 1.47 1.35L5.41 20z\"/>\n",
              "  </svg>\n",
              "      </button>\n",
              "      \n",
              "  <style>\n",
              "    .colab-df-container {\n",
              "      display:flex;\n",
              "      flex-wrap:wrap;\n",
              "      gap: 12px;\n",
              "    }\n",
              "\n",
              "    .colab-df-convert {\n",
              "      background-color: #E8F0FE;\n",
              "      border: none;\n",
              "      border-radius: 50%;\n",
              "      cursor: pointer;\n",
              "      display: none;\n",
              "      fill: #1967D2;\n",
              "      height: 32px;\n",
              "      padding: 0 0 0 0;\n",
              "      width: 32px;\n",
              "    }\n",
              "\n",
              "    .colab-df-convert:hover {\n",
              "      background-color: #E2EBFA;\n",
              "      box-shadow: 0px 1px 2px rgba(60, 64, 67, 0.3), 0px 1px 3px 1px rgba(60, 64, 67, 0.15);\n",
              "      fill: #174EA6;\n",
              "    }\n",
              "\n",
              "    [theme=dark] .colab-df-convert {\n",
              "      background-color: #3B4455;\n",
              "      fill: #D2E3FC;\n",
              "    }\n",
              "\n",
              "    [theme=dark] .colab-df-convert:hover {\n",
              "      background-color: #434B5C;\n",
              "      box-shadow: 0px 1px 3px 1px rgba(0, 0, 0, 0.15);\n",
              "      filter: drop-shadow(0px 1px 2px rgba(0, 0, 0, 0.3));\n",
              "      fill: #FFFFFF;\n",
              "    }\n",
              "  </style>\n",
              "\n",
              "      <script>\n",
              "        const buttonEl =\n",
              "          document.querySelector('#df-da929ffb-d189-4a03-848c-ab9fb097ecfa button.colab-df-convert');\n",
              "        buttonEl.style.display =\n",
              "          google.colab.kernel.accessAllowed ? 'block' : 'none';\n",
              "\n",
              "        async function convertToInteractive(key) {\n",
              "          const element = document.querySelector('#df-da929ffb-d189-4a03-848c-ab9fb097ecfa');\n",
              "          const dataTable =\n",
              "            await google.colab.kernel.invokeFunction('convertToInteractive',\n",
              "                                                     [key], {});\n",
              "          if (!dataTable) return;\n",
              "\n",
              "          const docLinkHtml = 'Like what you see? Visit the ' +\n",
              "            '<a target=\"_blank\" href=https://colab.research.google.com/notebooks/data_table.ipynb>data table notebook</a>'\n",
              "            + ' to learn more about interactive tables.';\n",
              "          element.innerHTML = '';\n",
              "          dataTable['output_type'] = 'display_data';\n",
              "          await google.colab.output.renderOutput(dataTable, element);\n",
              "          const docLink = document.createElement('div');\n",
              "          docLink.innerHTML = docLinkHtml;\n",
              "          element.appendChild(docLink);\n",
              "        }\n",
              "      </script>\n",
              "    </div>\n",
              "  </div>\n",
              "  "
            ]
          },
          "metadata": {},
          "execution_count": 36
        }
      ]
    },
    {
      "cell_type": "code",
      "source": [
        "test = data_duo_train.fillna(0)"
      ],
      "metadata": {
        "id": "4UJ-MB6NGOjg"
      },
      "execution_count": 37,
      "outputs": []
    },
    {
      "cell_type": "markdown",
      "source": [
        "Con esto podemos implementar un modelo que predice cada observación con la observación previa. En esta construcción se tiene un problema en la última observación que debe ser tratado mas adelante."
      ],
      "metadata": {
        "id": "dp7rzOxNKdoX"
      }
    },
    {
      "cell_type": "markdown",
      "source": [
        "Vamos a implementar dos modelos de regresión, arboles de decisión y un algoritmos de regresión basado en Gradient Boosting. La predicción la agregamos como una columna adicional en el dataframe."
      ],
      "metadata": {
        "id": "dTvDldDGK9p4"
      }
    },
    {
      "cell_type": "code",
      "source": [
        "from sklearn.tree import DecisionTreeRegressor\n",
        "X_train = train['sales'].values.reshape(-1,1)\n",
        "y_train = train['y'].values.reshape(-1,1)\n",
        "X_test = test['sales'].values.reshape(-1,1)\n",
        "y_test = test['y'].values.reshape(-1,1)\n",
        "# Initialize the model\n",
        "dt_reg = DecisionTreeRegressor(random_state=42)\n",
        "# Fit the model\n",
        "dt_reg.fit(X=X_train, y=y_train)\n",
        "# Make predictions\n",
        "dt_pred = dt_reg.predict(X_test)\n",
        "# Assign predictions to a new column in test\n",
        "test['dt_pred'] = dt_pred"
      ],
      "metadata": {
        "id": "t4dgV4K0LJnH"
      },
      "execution_count": 38,
      "outputs": []
    },
    {
      "cell_type": "code",
      "source": [
        "test"
      ],
      "metadata": {
        "colab": {
          "base_uri": "https://localhost:8080/",
          "height": 455
        },
        "id": "Mp_bFCO_GX6I",
        "outputId": "880f4f1f-595a-44ed-d9cf-3b0cbdea2eea"
      },
      "execution_count": 39,
      "outputs": [
        {
          "output_type": "execute_result",
          "data": {
            "text/plain": [
              "            sales     y   dt_pred\n",
              "date                             \n",
              "2013-01-01    0.0   0.0  2.414636\n",
              "2013-01-01    0.0   0.0  2.414636\n",
              "2013-01-01    0.0   0.0  2.414636\n",
              "2013-01-01    0.0   0.0  2.414636\n",
              "2013-01-01    0.0   0.0  2.414636\n",
              "...           ...   ...       ...\n",
              "2017-08-15    0.0   6.0  2.414636\n",
              "2017-08-15    6.0  11.0  4.237407\n",
              "2017-08-15   11.0   8.0  6.539634\n",
              "2017-08-15    8.0  10.0  5.279553\n",
              "2017-08-15   10.0   0.0  6.087142\n",
              "\n",
              "[90936 rows x 3 columns]"
            ],
            "text/html": [
              "\n",
              "  <div id=\"df-8ec0233d-df95-4809-a9c6-185908e429fb\">\n",
              "    <div class=\"colab-df-container\">\n",
              "      <div>\n",
              "<style scoped>\n",
              "    .dataframe tbody tr th:only-of-type {\n",
              "        vertical-align: middle;\n",
              "    }\n",
              "\n",
              "    .dataframe tbody tr th {\n",
              "        vertical-align: top;\n",
              "    }\n",
              "\n",
              "    .dataframe thead th {\n",
              "        text-align: right;\n",
              "    }\n",
              "</style>\n",
              "<table border=\"1\" class=\"dataframe\">\n",
              "  <thead>\n",
              "    <tr style=\"text-align: right;\">\n",
              "      <th></th>\n",
              "      <th>sales</th>\n",
              "      <th>y</th>\n",
              "      <th>dt_pred</th>\n",
              "    </tr>\n",
              "    <tr>\n",
              "      <th>date</th>\n",
              "      <th></th>\n",
              "      <th></th>\n",
              "      <th></th>\n",
              "    </tr>\n",
              "  </thead>\n",
              "  <tbody>\n",
              "    <tr>\n",
              "      <th>2013-01-01</th>\n",
              "      <td>0.0</td>\n",
              "      <td>0.0</td>\n",
              "      <td>2.414636</td>\n",
              "    </tr>\n",
              "    <tr>\n",
              "      <th>2013-01-01</th>\n",
              "      <td>0.0</td>\n",
              "      <td>0.0</td>\n",
              "      <td>2.414636</td>\n",
              "    </tr>\n",
              "    <tr>\n",
              "      <th>2013-01-01</th>\n",
              "      <td>0.0</td>\n",
              "      <td>0.0</td>\n",
              "      <td>2.414636</td>\n",
              "    </tr>\n",
              "    <tr>\n",
              "      <th>2013-01-01</th>\n",
              "      <td>0.0</td>\n",
              "      <td>0.0</td>\n",
              "      <td>2.414636</td>\n",
              "    </tr>\n",
              "    <tr>\n",
              "      <th>2013-01-01</th>\n",
              "      <td>0.0</td>\n",
              "      <td>0.0</td>\n",
              "      <td>2.414636</td>\n",
              "    </tr>\n",
              "    <tr>\n",
              "      <th>...</th>\n",
              "      <td>...</td>\n",
              "      <td>...</td>\n",
              "      <td>...</td>\n",
              "    </tr>\n",
              "    <tr>\n",
              "      <th>2017-08-15</th>\n",
              "      <td>0.0</td>\n",
              "      <td>6.0</td>\n",
              "      <td>2.414636</td>\n",
              "    </tr>\n",
              "    <tr>\n",
              "      <th>2017-08-15</th>\n",
              "      <td>6.0</td>\n",
              "      <td>11.0</td>\n",
              "      <td>4.237407</td>\n",
              "    </tr>\n",
              "    <tr>\n",
              "      <th>2017-08-15</th>\n",
              "      <td>11.0</td>\n",
              "      <td>8.0</td>\n",
              "      <td>6.539634</td>\n",
              "    </tr>\n",
              "    <tr>\n",
              "      <th>2017-08-15</th>\n",
              "      <td>8.0</td>\n",
              "      <td>10.0</td>\n",
              "      <td>5.279553</td>\n",
              "    </tr>\n",
              "    <tr>\n",
              "      <th>2017-08-15</th>\n",
              "      <td>10.0</td>\n",
              "      <td>0.0</td>\n",
              "      <td>6.087142</td>\n",
              "    </tr>\n",
              "  </tbody>\n",
              "</table>\n",
              "<p>90936 rows × 3 columns</p>\n",
              "</div>\n",
              "      <button class=\"colab-df-convert\" onclick=\"convertToInteractive('df-8ec0233d-df95-4809-a9c6-185908e429fb')\"\n",
              "              title=\"Convert this dataframe to an interactive table.\"\n",
              "              style=\"display:none;\">\n",
              "        \n",
              "  <svg xmlns=\"http://www.w3.org/2000/svg\" height=\"24px\"viewBox=\"0 0 24 24\"\n",
              "       width=\"24px\">\n",
              "    <path d=\"M0 0h24v24H0V0z\" fill=\"none\"/>\n",
              "    <path d=\"M18.56 5.44l.94 2.06.94-2.06 2.06-.94-2.06-.94-.94-2.06-.94 2.06-2.06.94zm-11 1L8.5 8.5l.94-2.06 2.06-.94-2.06-.94L8.5 2.5l-.94 2.06-2.06.94zm10 10l.94 2.06.94-2.06 2.06-.94-2.06-.94-.94-2.06-.94 2.06-2.06.94z\"/><path d=\"M17.41 7.96l-1.37-1.37c-.4-.4-.92-.59-1.43-.59-.52 0-1.04.2-1.43.59L10.3 9.45l-7.72 7.72c-.78.78-.78 2.05 0 2.83L4 21.41c.39.39.9.59 1.41.59.51 0 1.02-.2 1.41-.59l7.78-7.78 2.81-2.81c.8-.78.8-2.07 0-2.86zM5.41 20L4 18.59l7.72-7.72 1.47 1.35L5.41 20z\"/>\n",
              "  </svg>\n",
              "      </button>\n",
              "      \n",
              "  <style>\n",
              "    .colab-df-container {\n",
              "      display:flex;\n",
              "      flex-wrap:wrap;\n",
              "      gap: 12px;\n",
              "    }\n",
              "\n",
              "    .colab-df-convert {\n",
              "      background-color: #E8F0FE;\n",
              "      border: none;\n",
              "      border-radius: 50%;\n",
              "      cursor: pointer;\n",
              "      display: none;\n",
              "      fill: #1967D2;\n",
              "      height: 32px;\n",
              "      padding: 0 0 0 0;\n",
              "      width: 32px;\n",
              "    }\n",
              "\n",
              "    .colab-df-convert:hover {\n",
              "      background-color: #E2EBFA;\n",
              "      box-shadow: 0px 1px 2px rgba(60, 64, 67, 0.3), 0px 1px 3px 1px rgba(60, 64, 67, 0.15);\n",
              "      fill: #174EA6;\n",
              "    }\n",
              "\n",
              "    [theme=dark] .colab-df-convert {\n",
              "      background-color: #3B4455;\n",
              "      fill: #D2E3FC;\n",
              "    }\n",
              "\n",
              "    [theme=dark] .colab-df-convert:hover {\n",
              "      background-color: #434B5C;\n",
              "      box-shadow: 0px 1px 3px 1px rgba(0, 0, 0, 0.15);\n",
              "      filter: drop-shadow(0px 1px 2px rgba(0, 0, 0, 0.3));\n",
              "      fill: #FFFFFF;\n",
              "    }\n",
              "  </style>\n",
              "\n",
              "      <script>\n",
              "        const buttonEl =\n",
              "          document.querySelector('#df-8ec0233d-df95-4809-a9c6-185908e429fb button.colab-df-convert');\n",
              "        buttonEl.style.display =\n",
              "          google.colab.kernel.accessAllowed ? 'block' : 'none';\n",
              "\n",
              "        async function convertToInteractive(key) {\n",
              "          const element = document.querySelector('#df-8ec0233d-df95-4809-a9c6-185908e429fb');\n",
              "          const dataTable =\n",
              "            await google.colab.kernel.invokeFunction('convertToInteractive',\n",
              "                                                     [key], {});\n",
              "          if (!dataTable) return;\n",
              "\n",
              "          const docLinkHtml = 'Like what you see? Visit the ' +\n",
              "            '<a target=\"_blank\" href=https://colab.research.google.com/notebooks/data_table.ipynb>data table notebook</a>'\n",
              "            + ' to learn more about interactive tables.';\n",
              "          element.innerHTML = '';\n",
              "          dataTable['output_type'] = 'display_data';\n",
              "          await google.colab.output.renderOutput(dataTable, element);\n",
              "          const docLink = document.createElement('div');\n",
              "          docLink.innerHTML = docLinkHtml;\n",
              "          element.appendChild(docLink);\n",
              "        }\n",
              "      </script>\n",
              "    </div>\n",
              "  </div>\n",
              "  "
            ]
          },
          "metadata": {},
          "execution_count": 39
        }
      ]
    },
    {
      "cell_type": "code",
      "source": [
        "from sklearn.ensemble import GradientBoostingRegressor\n",
        "gbr = GradientBoostingRegressor(random_state=42)\n",
        "gbr.fit(X_train, y=y_train.ravel())\n",
        "gbr_pred = gbr.predict(X_test)\n",
        "test['gbr_pred'] = gbr_pred"
      ],
      "metadata": {
        "id": "dD9szPVaLOuE"
      },
      "execution_count": 40,
      "outputs": []
    },
    {
      "cell_type": "code",
      "source": [
        "test"
      ],
      "metadata": {
        "colab": {
          "base_uri": "https://localhost:8080/",
          "height": 455
        },
        "id": "NKuNuceTGb-n",
        "outputId": "ce1b783f-648d-47f1-9798-51df27ae3a25"
      },
      "execution_count": 41,
      "outputs": [
        {
          "output_type": "execute_result",
          "data": {
            "text/plain": [
              "            sales     y   dt_pred  gbr_pred\n",
              "date                                       \n",
              "2013-01-01    0.0   0.0  2.414636  2.419300\n",
              "2013-01-01    0.0   0.0  2.414636  2.419300\n",
              "2013-01-01    0.0   0.0  2.414636  2.419300\n",
              "2013-01-01    0.0   0.0  2.414636  2.419300\n",
              "2013-01-01    0.0   0.0  2.414636  2.419300\n",
              "...           ...   ...       ...       ...\n",
              "2017-08-15    0.0   6.0  2.414636  2.419300\n",
              "2017-08-15    6.0  11.0  4.237407  4.235582\n",
              "2017-08-15   11.0   8.0  6.539634  6.533022\n",
              "2017-08-15    8.0  10.0  5.279553  5.276648\n",
              "2017-08-15   10.0   0.0  6.087142  6.082010\n",
              "\n",
              "[90936 rows x 4 columns]"
            ],
            "text/html": [
              "\n",
              "  <div id=\"df-e7423b87-8c52-4d56-9af7-7e9bf43177e9\">\n",
              "    <div class=\"colab-df-container\">\n",
              "      <div>\n",
              "<style scoped>\n",
              "    .dataframe tbody tr th:only-of-type {\n",
              "        vertical-align: middle;\n",
              "    }\n",
              "\n",
              "    .dataframe tbody tr th {\n",
              "        vertical-align: top;\n",
              "    }\n",
              "\n",
              "    .dataframe thead th {\n",
              "        text-align: right;\n",
              "    }\n",
              "</style>\n",
              "<table border=\"1\" class=\"dataframe\">\n",
              "  <thead>\n",
              "    <tr style=\"text-align: right;\">\n",
              "      <th></th>\n",
              "      <th>sales</th>\n",
              "      <th>y</th>\n",
              "      <th>dt_pred</th>\n",
              "      <th>gbr_pred</th>\n",
              "    </tr>\n",
              "    <tr>\n",
              "      <th>date</th>\n",
              "      <th></th>\n",
              "      <th></th>\n",
              "      <th></th>\n",
              "      <th></th>\n",
              "    </tr>\n",
              "  </thead>\n",
              "  <tbody>\n",
              "    <tr>\n",
              "      <th>2013-01-01</th>\n",
              "      <td>0.0</td>\n",
              "      <td>0.0</td>\n",
              "      <td>2.414636</td>\n",
              "      <td>2.419300</td>\n",
              "    </tr>\n",
              "    <tr>\n",
              "      <th>2013-01-01</th>\n",
              "      <td>0.0</td>\n",
              "      <td>0.0</td>\n",
              "      <td>2.414636</td>\n",
              "      <td>2.419300</td>\n",
              "    </tr>\n",
              "    <tr>\n",
              "      <th>2013-01-01</th>\n",
              "      <td>0.0</td>\n",
              "      <td>0.0</td>\n",
              "      <td>2.414636</td>\n",
              "      <td>2.419300</td>\n",
              "    </tr>\n",
              "    <tr>\n",
              "      <th>2013-01-01</th>\n",
              "      <td>0.0</td>\n",
              "      <td>0.0</td>\n",
              "      <td>2.414636</td>\n",
              "      <td>2.419300</td>\n",
              "    </tr>\n",
              "    <tr>\n",
              "      <th>2013-01-01</th>\n",
              "      <td>0.0</td>\n",
              "      <td>0.0</td>\n",
              "      <td>2.414636</td>\n",
              "      <td>2.419300</td>\n",
              "    </tr>\n",
              "    <tr>\n",
              "      <th>...</th>\n",
              "      <td>...</td>\n",
              "      <td>...</td>\n",
              "      <td>...</td>\n",
              "      <td>...</td>\n",
              "    </tr>\n",
              "    <tr>\n",
              "      <th>2017-08-15</th>\n",
              "      <td>0.0</td>\n",
              "      <td>6.0</td>\n",
              "      <td>2.414636</td>\n",
              "      <td>2.419300</td>\n",
              "    </tr>\n",
              "    <tr>\n",
              "      <th>2017-08-15</th>\n",
              "      <td>6.0</td>\n",
              "      <td>11.0</td>\n",
              "      <td>4.237407</td>\n",
              "      <td>4.235582</td>\n",
              "    </tr>\n",
              "    <tr>\n",
              "      <th>2017-08-15</th>\n",
              "      <td>11.0</td>\n",
              "      <td>8.0</td>\n",
              "      <td>6.539634</td>\n",
              "      <td>6.533022</td>\n",
              "    </tr>\n",
              "    <tr>\n",
              "      <th>2017-08-15</th>\n",
              "      <td>8.0</td>\n",
              "      <td>10.0</td>\n",
              "      <td>5.279553</td>\n",
              "      <td>5.276648</td>\n",
              "    </tr>\n",
              "    <tr>\n",
              "      <th>2017-08-15</th>\n",
              "      <td>10.0</td>\n",
              "      <td>0.0</td>\n",
              "      <td>6.087142</td>\n",
              "      <td>6.082010</td>\n",
              "    </tr>\n",
              "  </tbody>\n",
              "</table>\n",
              "<p>90936 rows × 4 columns</p>\n",
              "</div>\n",
              "      <button class=\"colab-df-convert\" onclick=\"convertToInteractive('df-e7423b87-8c52-4d56-9af7-7e9bf43177e9')\"\n",
              "              title=\"Convert this dataframe to an interactive table.\"\n",
              "              style=\"display:none;\">\n",
              "        \n",
              "  <svg xmlns=\"http://www.w3.org/2000/svg\" height=\"24px\"viewBox=\"0 0 24 24\"\n",
              "       width=\"24px\">\n",
              "    <path d=\"M0 0h24v24H0V0z\" fill=\"none\"/>\n",
              "    <path d=\"M18.56 5.44l.94 2.06.94-2.06 2.06-.94-2.06-.94-.94-2.06-.94 2.06-2.06.94zm-11 1L8.5 8.5l.94-2.06 2.06-.94-2.06-.94L8.5 2.5l-.94 2.06-2.06.94zm10 10l.94 2.06.94-2.06 2.06-.94-2.06-.94-.94-2.06-.94 2.06-2.06.94z\"/><path d=\"M17.41 7.96l-1.37-1.37c-.4-.4-.92-.59-1.43-.59-.52 0-1.04.2-1.43.59L10.3 9.45l-7.72 7.72c-.78.78-.78 2.05 0 2.83L4 21.41c.39.39.9.59 1.41.59.51 0 1.02-.2 1.41-.59l7.78-7.78 2.81-2.81c.8-.78.8-2.07 0-2.86zM5.41 20L4 18.59l7.72-7.72 1.47 1.35L5.41 20z\"/>\n",
              "  </svg>\n",
              "      </button>\n",
              "      \n",
              "  <style>\n",
              "    .colab-df-container {\n",
              "      display:flex;\n",
              "      flex-wrap:wrap;\n",
              "      gap: 12px;\n",
              "    }\n",
              "\n",
              "    .colab-df-convert {\n",
              "      background-color: #E8F0FE;\n",
              "      border: none;\n",
              "      border-radius: 50%;\n",
              "      cursor: pointer;\n",
              "      display: none;\n",
              "      fill: #1967D2;\n",
              "      height: 32px;\n",
              "      padding: 0 0 0 0;\n",
              "      width: 32px;\n",
              "    }\n",
              "\n",
              "    .colab-df-convert:hover {\n",
              "      background-color: #E2EBFA;\n",
              "      box-shadow: 0px 1px 2px rgba(60, 64, 67, 0.3), 0px 1px 3px 1px rgba(60, 64, 67, 0.15);\n",
              "      fill: #174EA6;\n",
              "    }\n",
              "\n",
              "    [theme=dark] .colab-df-convert {\n",
              "      background-color: #3B4455;\n",
              "      fill: #D2E3FC;\n",
              "    }\n",
              "\n",
              "    [theme=dark] .colab-df-convert:hover {\n",
              "      background-color: #434B5C;\n",
              "      box-shadow: 0px 1px 3px 1px rgba(0, 0, 0, 0.15);\n",
              "      filter: drop-shadow(0px 1px 2px rgba(0, 0, 0, 0.3));\n",
              "      fill: #FFFFFF;\n",
              "    }\n",
              "  </style>\n",
              "\n",
              "      <script>\n",
              "        const buttonEl =\n",
              "          document.querySelector('#df-e7423b87-8c52-4d56-9af7-7e9bf43177e9 button.colab-df-convert');\n",
              "        buttonEl.style.display =\n",
              "          google.colab.kernel.accessAllowed ? 'block' : 'none';\n",
              "\n",
              "        async function convertToInteractive(key) {\n",
              "          const element = document.querySelector('#df-e7423b87-8c52-4d56-9af7-7e9bf43177e9');\n",
              "          const dataTable =\n",
              "            await google.colab.kernel.invokeFunction('convertToInteractive',\n",
              "                                                     [key], {});\n",
              "          if (!dataTable) return;\n",
              "\n",
              "          const docLinkHtml = 'Like what you see? Visit the ' +\n",
              "            '<a target=\"_blank\" href=https://colab.research.google.com/notebooks/data_table.ipynb>data table notebook</a>'\n",
              "            + ' to learn more about interactive tables.';\n",
              "          element.innerHTML = '';\n",
              "          dataTable['output_type'] = 'display_data';\n",
              "          await google.colab.output.renderOutput(dataTable, element);\n",
              "          const docLink = document.createElement('div');\n",
              "          docLink.innerHTML = docLinkHtml;\n",
              "          element.appendChild(docLink);\n",
              "        }\n",
              "      </script>\n",
              "    </div>\n",
              "  </div>\n",
              "  "
            ]
          },
          "metadata": {},
          "execution_count": 41
        }
      ]
    },
    {
      "cell_type": "markdown",
      "source": [
        "Con el fin de tener una comparación, vamos a agregar una columna de base o referencia donde la predicción es igual a la entrada:"
      ],
      "metadata": {
        "id": "xANmPBusLY7d"
      }
    },
    {
      "cell_type": "code",
      "source": [
        "test_3 = test.copy()\n",
        "test_3['baseline_pred'] = test_3['sales']"
      ],
      "metadata": {
        "id": "PP9ebH9wLeu2"
      },
      "execution_count": 42,
      "outputs": []
    },
    {
      "cell_type": "code",
      "source": [
        "baseline_mape = mape(test_3['y'], test_3['baseline_pred'])\n",
        "dt_mape = mape(test_3['y'], test_3['dt_pred'])\n",
        "gbr_mape = mape(test['y'], test['gbr_pred'])\n",
        "# Generate bar plot\n",
        "fig, ax = plt.subplots(figsize=(7, 5))\n",
        "x = ['Baseline', 'Decision Tree', 'Gradient Boosting']\n",
        "y = [baseline_mape, dt_mape, gbr_mape]\n",
        "ax.bar(x, y, width=0.4)\n",
        "ax.set_xlabel('Regressor models')\n",
        "ax.set_ylabel('MAPE (%)')\n",
        "ax.set_ylim(0, 0.3)\n",
        "for index, value in enumerate(y):\n",
        "    plt.text(x=index, y=value + 0.02, s=str(value), ha='center')\n",
        "    \n",
        "plt.tight_layout()"
      ],
      "metadata": {
        "id": "KSLNQCCtLmpN",
        "colab": {
          "base_uri": "https://localhost:8080/",
          "height": 670
        },
        "outputId": "7a4ad872-f451-4cf7-deeb-b9f3a90708dc"
      },
      "execution_count": 43,
      "outputs": [
        {
          "output_type": "stream",
          "name": "stderr",
          "text": [
            "WARNING:matplotlib.text:posx and posy should be finite values\n",
            "WARNING:matplotlib.text:posx and posy should be finite values\n",
            "WARNING:matplotlib.text:posx and posy should be finite values\n",
            "WARNING:matplotlib.text:posx and posy should be finite values\n",
            "WARNING:matplotlib.text:posx and posy should be finite values\n",
            "WARNING:matplotlib.text:posx and posy should be finite values\n",
            "WARNING:matplotlib.text:posx and posy should be finite values\n",
            "WARNING:matplotlib.text:posx and posy should be finite values\n",
            "WARNING:matplotlib.text:posx and posy should be finite values\n"
          ]
        },
        {
          "output_type": "display_data",
          "data": {
            "text/plain": [
              "<Figure size 700x500 with 1 Axes>"
            ],
            "image/png": "[encoded data removed]"
          },
          "metadata": {}
        }
      ]
    },
    {
      "cell_type": "code",
      "source": [
        "from sklearn.metrics import r2_score\n",
        "baseline_r2 = r2_score(test_3['y'], test_3['baseline_pred'])\n",
        "dt_r2 = r2_score(test_3['y'], test_3['dt_pred'])\n",
        "gbr_r2 = r2_score(test_3['sales'], test_3['gbr_pred'])\n",
        "# Generate bar plot\n",
        "fig, ax = plt.subplots(figsize=(7, 5))\n",
        "x = ['Baseline', 'Decision Tree', 'Gradient Boosting']\n",
        "y = [baseline_r2, dt_r2, gbr_r2]\n",
        "ax.bar(x, y, width=0.4)\n",
        "ax.set_xlabel('Regressor models')\n",
        "ax.set_ylabel('R2 (%)')\n",
        "ax.set_ylim(0, 0.99)\n",
        "for index, value in enumerate(y):\n",
        "    plt.text(x=index, y=value + 0.02, s=str(value), ha='center')\n",
        "    \n",
        "plt.tight_layout()"
      ],
      "metadata": {
        "id": "lKNcqgJuLv1N",
        "colab": {
          "base_uri": "https://localhost:8080/",
          "height": 507
        },
        "outputId": "321d8c78-bb7f-4ed4-bf13-c9d4d6940fc3"
      },
      "execution_count": 44,
      "outputs": [
        {
          "output_type": "display_data",
          "data": {
            "text/plain": [
              "<Figure size 700x500 with 1 Axes>"
            ],
            "image/png": "[encoded data removed]"
          },
          "metadata": {}
        }
      ]
    },
    {
      "cell_type": "markdown",
      "source": [
        "##Predicción utilizando una secuencia de valores pasados:"
      ],
      "metadata": {
        "id": "2i9Z4I6gOMOz"
      }
    },
    {
      "cell_type": "code",
      "source": [
        "new_df = window_input(10, test_3)"
      ],
      "metadata": {
        "id": "c0k0S8reOTZS"
      },
      "execution_count": 45,
      "outputs": []
    },
    {
      "cell_type": "code",
      "source": [
        "from sklearn.model_selection import train_test_split\n",
        "\n",
        "X = new_df.drop('y',axis=1).values\n",
        "y = new_df['y'].values\n",
        "\n",
        "X_train, X_test, y_train, y_test = train_test_split(X, y, test_size=0.3, random_state=42, shuffle=False)"
      ],
      "metadata": {
        "id": "-x7KFcDNOY7Y"
      },
      "execution_count": 46,
      "outputs": []
    },
    {
      "cell_type": "code",
      "source": [
        "baseline_pred = []\n",
        "\n",
        "for row in X_test:\n",
        "    baseline_pred.append(np.mean(row))"
      ],
      "metadata": {
        "id": "o6Kn0cTTOe9K"
      },
      "execution_count": 47,
      "outputs": []
    },
    {
      "cell_type": "code",
      "source": [
        "gbr_5 = GradientBoostingRegressor(random_state=42)\n",
        "\n",
        "gbr_5.fit(X_train, y_train.ravel())\n",
        "\n",
        "gbr_5_pred = gbr_5.predict(X_test)"
      ],
      "metadata": {
        "id": "nB8gzwIhOk1h"
      },
      "execution_count": 48,
      "outputs": []
    },
    {
      "cell_type": "code",
      "source": [
        "baseline_r2 = r2_score(y_test, baseline_pred)\n",
        "dt_5_r2 = r2_score(y_test, dt_reg_5_pred)\n",
        "gbr_5_r2 = r2_score(y_test, gbr_5_pred)\n",
        "# Generate the bar plot\n",
        "fig, ax = plt.subplots()\n",
        "\n",
        "x = ['Baseline', 'Decision Tree', 'Gradient Boosting']\n",
        "y = [baseline_r2, dt_5_r2, gbr_5_r2]\n",
        "\n",
        "ax.bar(x, y, width=0.4)\n",
        "ax.set_xlabel('Regressor models')\n",
        "ax.set_ylabel('R2 (%)')\n",
        "#ax.set_ylim(0, 2.5)\n",
        "\n",
        "for index, value in enumerate(y):\n",
        "    plt.text(x=index, y=value + 0.1, s=str(value), ha='center')\n",
        "    \n",
        "plt.tight_layout()"
      ],
      "metadata": {
        "id": "RLSakm-bPDww",
        "colab": {
          "base_uri": "https://localhost:8080/",
          "height": 487
        },
        "outputId": "e97d7e33-6f1b-44e6-a910-7a5786e3e370"
      },
      "execution_count": 49,
      "outputs": [
        {
          "output_type": "display_data",
          "data": {
            "text/plain": [
              "<Figure size 640x480 with 1 Axes>"
            ],
            "image/png": "[encoded data removed]"
          },
          "metadata": {}
        }
      ]
    },
    {
      "cell_type": "markdown",
      "source": [
        "# Análisis de la tercer tienda"
      ],
      "metadata": {
        "id": "6MXeCSYe2jLT"
      }
    },
    {
      "cell_type": "code",
      "source": [
        "data_tris = pd.DataFrame()\n",
        "data_tris['date'] = pd.to_datetime(produce['date'])\n",
        "data_tris['sales'] = produce['sales']\n",
        "data_tris.loc[produce['store_nbr'] == '53']\n",
        "data_tris.set_index('date', inplace=True)\n",
        "data_tris.head()"
      ],
      "metadata": {
        "id": "pmT-6dJN2ouU",
        "colab": {
          "base_uri": "https://localhost:8080/",
          "height": 237
        },
        "outputId": "e49b6243-ddf9-4493-e1ee-b414a385c7ff"
      },
      "execution_count": 65,
      "outputs": [
        {
          "output_type": "execute_result",
          "data": {
            "text/plain": [
              "            sales\n",
              "date             \n",
              "2013-01-01    0.0\n",
              "2013-01-01    0.0\n",
              "2013-01-01    0.0\n",
              "2013-01-01    0.0\n",
              "2013-01-01    0.0"
            ],
            "text/html": [
              "\n",
              "  <div id=\"df-9c29c389-f19a-4404-8303-721dfcb94e97\">\n",
              "    <div class=\"colab-df-container\">\n",
              "      <div>\n",
              "<style scoped>\n",
              "    .dataframe tbody tr th:only-of-type {\n",
              "        vertical-align: middle;\n",
              "    }\n",
              "\n",
              "    .dataframe tbody tr th {\n",
              "        vertical-align: top;\n",
              "    }\n",
              "\n",
              "    .dataframe thead th {\n",
              "        text-align: right;\n",
              "    }\n",
              "</style>\n",
              "<table border=\"1\" class=\"dataframe\">\n",
              "  <thead>\n",
              "    <tr style=\"text-align: right;\">\n",
              "      <th></th>\n",
              "      <th>sales</th>\n",
              "    </tr>\n",
              "    <tr>\n",
              "      <th>date</th>\n",
              "      <th></th>\n",
              "    </tr>\n",
              "  </thead>\n",
              "  <tbody>\n",
              "    <tr>\n",
              "      <th>2013-01-01</th>\n",
              "      <td>0.0</td>\n",
              "    </tr>\n",
              "    <tr>\n",
              "      <th>2013-01-01</th>\n",
              "      <td>0.0</td>\n",
              "    </tr>\n",
              "    <tr>\n",
              "      <th>2013-01-01</th>\n",
              "      <td>0.0</td>\n",
              "    </tr>\n",
              "    <tr>\n",
              "      <th>2013-01-01</th>\n",
              "      <td>0.0</td>\n",
              "    </tr>\n",
              "    <tr>\n",
              "      <th>2013-01-01</th>\n",
              "      <td>0.0</td>\n",
              "    </tr>\n",
              "  </tbody>\n",
              "</table>\n",
              "</div>\n",
              "      <button class=\"colab-df-convert\" onclick=\"convertToInteractive('df-9c29c389-f19a-4404-8303-721dfcb94e97')\"\n",
              "              title=\"Convert this dataframe to an interactive table.\"\n",
              "              style=\"display:none;\">\n",
              "        \n",
              "  <svg xmlns=\"http://www.w3.org/2000/svg\" height=\"24px\"viewBox=\"0 0 24 24\"\n",
              "       width=\"24px\">\n",
              "    <path d=\"M0 0h24v24H0V0z\" fill=\"none\"/>\n",
              "    <path d=\"M18.56 5.44l.94 2.06.94-2.06 2.06-.94-2.06-.94-.94-2.06-.94 2.06-2.06.94zm-11 1L8.5 8.5l.94-2.06 2.06-.94-2.06-.94L8.5 2.5l-.94 2.06-2.06.94zm10 10l.94 2.06.94-2.06 2.06-.94-2.06-.94-.94-2.06-.94 2.06-2.06.94z\"/><path d=\"M17.41 7.96l-1.37-1.37c-.4-.4-.92-.59-1.43-.59-.52 0-1.04.2-1.43.59L10.3 9.45l-7.72 7.72c-.78.78-.78 2.05 0 2.83L4 21.41c.39.39.9.59 1.41.59.51 0 1.02-.2 1.41-.59l7.78-7.78 2.81-2.81c.8-.78.8-2.07 0-2.86zM5.41 20L4 18.59l7.72-7.72 1.47 1.35L5.41 20z\"/>\n",
              "  </svg>\n",
              "      </button>\n",
              "      \n",
              "  <style>\n",
              "    .colab-df-container {\n",
              "      display:flex;\n",
              "      flex-wrap:wrap;\n",
              "      gap: 12px;\n",
              "    }\n",
              "\n",
              "    .colab-df-convert {\n",
              "      background-color: #E8F0FE;\n",
              "      border: none;\n",
              "      border-radius: 50%;\n",
              "      cursor: pointer;\n",
              "      display: none;\n",
              "      fill: #1967D2;\n",
              "      height: 32px;\n",
              "      padding: 0 0 0 0;\n",
              "      width: 32px;\n",
              "    }\n",
              "\n",
              "    .colab-df-convert:hover {\n",
              "      background-color: #E2EBFA;\n",
              "      box-shadow: 0px 1px 2px rgba(60, 64, 67, 0.3), 0px 1px 3px 1px rgba(60, 64, 67, 0.15);\n",
              "      fill: #174EA6;\n",
              "    }\n",
              "\n",
              "    [theme=dark] .colab-df-convert {\n",
              "      background-color: #3B4455;\n",
              "      fill: #D2E3FC;\n",
              "    }\n",
              "\n",
              "    [theme=dark] .colab-df-convert:hover {\n",
              "      background-color: #434B5C;\n",
              "      box-shadow: 0px 1px 3px 1px rgba(0, 0, 0, 0.15);\n",
              "      filter: drop-shadow(0px 1px 2px rgba(0, 0, 0, 0.3));\n",
              "      fill: #FFFFFF;\n",
              "    }\n",
              "  </style>\n",
              "\n",
              "      <script>\n",
              "        const buttonEl =\n",
              "          document.querySelector('#df-9c29c389-f19a-4404-8303-721dfcb94e97 button.colab-df-convert');\n",
              "        buttonEl.style.display =\n",
              "          google.colab.kernel.accessAllowed ? 'block' : 'none';\n",
              "\n",
              "        async function convertToInteractive(key) {\n",
              "          const element = document.querySelector('#df-9c29c389-f19a-4404-8303-721dfcb94e97');\n",
              "          const dataTable =\n",
              "            await google.colab.kernel.invokeFunction('convertToInteractive',\n",
              "                                                     [key], {});\n",
              "          if (!dataTable) return;\n",
              "\n",
              "          const docLinkHtml = 'Like what you see? Visit the ' +\n",
              "            '<a target=\"_blank\" href=https://colab.research.google.com/notebooks/data_table.ipynb>data table notebook</a>'\n",
              "            + ' to learn more about interactive tables.';\n",
              "          element.innerHTML = '';\n",
              "          dataTable['output_type'] = 'display_data';\n",
              "          await google.colab.output.renderOutput(dataTable, element);\n",
              "          const docLink = document.createElement('div');\n",
              "          docLink.innerHTML = docLinkHtml;\n",
              "          element.appendChild(docLink);\n",
              "        }\n",
              "      </script>\n",
              "    </div>\n",
              "  </div>\n",
              "  "
            ]
          },
          "metadata": {},
          "execution_count": 65
        }
      ]
    },
    {
      "cell_type": "markdown",
      "source": [
        "Observemos que en una serie de tiempo tenemos los indices en formato de fecha y la variable del store bnr. Si queremos implementar un algoritmo de regresión basado en aprendizaje supervisado, necesitamos tener además de los datos de entrada un vector de etiquetas o datos de salida (y). Vamos a ver varias alternativas:"
      ],
      "metadata": {
        "id": "CE8BagSKJeCB"
      }
    },
    {
      "cell_type": "code",
      "source": [
        "fig, ax = plt.subplots(figsize=(16, 11))\n",
        "ax.plot(data_tris['sales'])\n",
        "ax.set_xlabel('Time')\n",
        "ax.set_ylabel('Sales')\n",
        "fig.autofmt_xdate()\n",
        "plt.tight_layout()"
      ],
      "metadata": {
        "colab": {
          "base_uri": "https://localhost:8080/",
          "height": 1000
        },
        "id": "Htdz5NfpKsv6",
        "outputId": "02f661f0-f7a8-4bc6-98b3-d7c663234464"
      },
      "execution_count": 66,
      "outputs": [
        {
          "output_type": "display_data",
          "data": {
            "text/plain": [
              "<Figure size 1600x1100 with 1 Axes>"
            ],
            "image/png": "[encoded data removed]"
          },
          "metadata": {}
        }
      ]
    },
    {
      "cell_type": "markdown",
      "source": [
        "## Predecir cada dato siguiente a partir de una observación previa."
      ],
      "metadata": {
        "id": "0N73oW_fJqJO"
      }
    },
    {
      "cell_type": "markdown",
      "source": [
        "![image.png](data:image/png;base64,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)"
      ],
      "metadata": {
        "id": "Y2C9h1XlJvUh"
      }
    },
    {
      "cell_type": "markdown",
      "source": [
        "Este es un modelo muy básico porque es dificil que se pueda predecir un dato solo a partir de una observación previa. Mas adelante veremos esta implementación pero con una ventana de observación mayor. Lo importante es que debemos generar una matriz con los datos de entrada y de salida para poder trabajar el esquema tal cual como se ha revisado anteriormente para problemas de clasificación supervisada."
      ],
      "metadata": {
        "id": "OMusCHV-J1i5"
      }
    },
    {
      "cell_type": "markdown",
      "source": [
        "Vamos a adicionar una columna equivalente a la salida que se va a predecir. Para esto se utiliza el método *shift*."
      ],
      "metadata": {
        "id": "THJEwdbqJ8M5"
      }
    },
    {
      "cell_type": "code",
      "source": [
        "data_tris_train = data_tris.copy()\n",
        "data_tris_train = data_tris_train.fillna(0)\n",
        "data_tris_train['y'] = data_tris_train['sales'].shift(-1)\n",
        "data_tris_train.head()"
      ],
      "metadata": {
        "id": "-XpOAlcUKJm9",
        "colab": {
          "base_uri": "https://localhost:8080/",
          "height": 237
        },
        "outputId": "60aa8e9f-c9ac-4aa2-8f62-ff613347fa2b"
      },
      "execution_count": 67,
      "outputs": [
        {
          "output_type": "execute_result",
          "data": {
            "text/plain": [
              "            sales    y\n",
              "date                  \n",
              "2013-01-01    0.0  0.0\n",
              "2013-01-01    0.0  0.0\n",
              "2013-01-01    0.0  0.0\n",
              "2013-01-01    0.0  0.0\n",
              "2013-01-01    0.0  0.0"
            ],
            "text/html": [
              "\n",
              "  <div id=\"df-9b82ddea-3b58-4672-801c-3c5277463690\">\n",
              "    <div class=\"colab-df-container\">\n",
              "      <div>\n",
              "<style scoped>\n",
              "    .dataframe tbody tr th:only-of-type {\n",
              "        vertical-align: middle;\n",
              "    }\n",
              "\n",
              "    .dataframe tbody tr th {\n",
              "        vertical-align: top;\n",
              "    }\n",
              "\n",
              "    .dataframe thead th {\n",
              "        text-align: right;\n",
              "    }\n",
              "</style>\n",
              "<table border=\"1\" class=\"dataframe\">\n",
              "  <thead>\n",
              "    <tr style=\"text-align: right;\">\n",
              "      <th></th>\n",
              "      <th>sales</th>\n",
              "      <th>y</th>\n",
              "    </tr>\n",
              "    <tr>\n",
              "      <th>date</th>\n",
              "      <th></th>\n",
              "      <th></th>\n",
              "    </tr>\n",
              "  </thead>\n",
              "  <tbody>\n",
              "    <tr>\n",
              "      <th>2013-01-01</th>\n",
              "      <td>0.0</td>\n",
              "      <td>0.0</td>\n",
              "    </tr>\n",
              "    <tr>\n",
              "      <th>2013-01-01</th>\n",
              "      <td>0.0</td>\n",
              "      <td>0.0</td>\n",
              "    </tr>\n",
              "    <tr>\n",
              "      <th>2013-01-01</th>\n",
              "      <td>0.0</td>\n",
              "      <td>0.0</td>\n",
              "    </tr>\n",
              "    <tr>\n",
              "      <th>2013-01-01</th>\n",
              "      <td>0.0</td>\n",
              "      <td>0.0</td>\n",
              "    </tr>\n",
              "    <tr>\n",
              "      <th>2013-01-01</th>\n",
              "      <td>0.0</td>\n",
              "      <td>0.0</td>\n",
              "    </tr>\n",
              "  </tbody>\n",
              "</table>\n",
              "</div>\n",
              "      <button class=\"colab-df-convert\" onclick=\"convertToInteractive('df-9b82ddea-3b58-4672-801c-3c5277463690')\"\n",
              "              title=\"Convert this dataframe to an interactive table.\"\n",
              "              style=\"display:none;\">\n",
              "        \n",
              "  <svg xmlns=\"http://www.w3.org/2000/svg\" height=\"24px\"viewBox=\"0 0 24 24\"\n",
              "       width=\"24px\">\n",
              "    <path d=\"M0 0h24v24H0V0z\" fill=\"none\"/>\n",
              "    <path d=\"M18.56 5.44l.94 2.06.94-2.06 2.06-.94-2.06-.94-.94-2.06-.94 2.06-2.06.94zm-11 1L8.5 8.5l.94-2.06 2.06-.94-2.06-.94L8.5 2.5l-.94 2.06-2.06.94zm10 10l.94 2.06.94-2.06 2.06-.94-2.06-.94-.94-2.06-.94 2.06-2.06.94z\"/><path d=\"M17.41 7.96l-1.37-1.37c-.4-.4-.92-.59-1.43-.59-.52 0-1.04.2-1.43.59L10.3 9.45l-7.72 7.72c-.78.78-.78 2.05 0 2.83L4 21.41c.39.39.9.59 1.41.59.51 0 1.02-.2 1.41-.59l7.78-7.78 2.81-2.81c.8-.78.8-2.07 0-2.86zM5.41 20L4 18.59l7.72-7.72 1.47 1.35L5.41 20z\"/>\n",
              "  </svg>\n",
              "      </button>\n",
              "      \n",
              "  <style>\n",
              "    .colab-df-container {\n",
              "      display:flex;\n",
              "      flex-wrap:wrap;\n",
              "      gap: 12px;\n",
              "    }\n",
              "\n",
              "    .colab-df-convert {\n",
              "      background-color: #E8F0FE;\n",
              "      border: none;\n",
              "      border-radius: 50%;\n",
              "      cursor: pointer;\n",
              "      display: none;\n",
              "      fill: #1967D2;\n",
              "      height: 32px;\n",
              "      padding: 0 0 0 0;\n",
              "      width: 32px;\n",
              "    }\n",
              "\n",
              "    .colab-df-convert:hover {\n",
              "      background-color: #E2EBFA;\n",
              "      box-shadow: 0px 1px 2px rgba(60, 64, 67, 0.3), 0px 1px 3px 1px rgba(60, 64, 67, 0.15);\n",
              "      fill: #174EA6;\n",
              "    }\n",
              "\n",
              "    [theme=dark] .colab-df-convert {\n",
              "      background-color: #3B4455;\n",
              "      fill: #D2E3FC;\n",
              "    }\n",
              "\n",
              "    [theme=dark] .colab-df-convert:hover {\n",
              "      background-color: #434B5C;\n",
              "      box-shadow: 0px 1px 3px 1px rgba(0, 0, 0, 0.15);\n",
              "      filter: drop-shadow(0px 1px 2px rgba(0, 0, 0, 0.3));\n",
              "      fill: #FFFFFF;\n",
              "    }\n",
              "  </style>\n",
              "\n",
              "      <script>\n",
              "        const buttonEl =\n",
              "          document.querySelector('#df-9b82ddea-3b58-4672-801c-3c5277463690 button.colab-df-convert');\n",
              "        buttonEl.style.display =\n",
              "          google.colab.kernel.accessAllowed ? 'block' : 'none';\n",
              "\n",
              "        async function convertToInteractive(key) {\n",
              "          const element = document.querySelector('#df-9b82ddea-3b58-4672-801c-3c5277463690');\n",
              "          const dataTable =\n",
              "            await google.colab.kernel.invokeFunction('convertToInteractive',\n",
              "                                                     [key], {});\n",
              "          if (!dataTable) return;\n",
              "\n",
              "          const docLinkHtml = 'Like what you see? Visit the ' +\n",
              "            '<a target=\"_blank\" href=https://colab.research.google.com/notebooks/data_table.ipynb>data table notebook</a>'\n",
              "            + ' to learn more about interactive tables.';\n",
              "          element.innerHTML = '';\n",
              "          dataTable['output_type'] = 'display_data';\n",
              "          await google.colab.output.renderOutput(dataTable, element);\n",
              "          const docLink = document.createElement('div');\n",
              "          docLink.innerHTML = docLinkHtml;\n",
              "          element.appendChild(docLink);\n",
              "        }\n",
              "      </script>\n",
              "    </div>\n",
              "  </div>\n",
              "  "
            ]
          },
          "metadata": {},
          "execution_count": 67
        }
      ]
    },
    {
      "cell_type": "markdown",
      "source": [
        "Con esto podemos implementar un modelo que predice cada observación con la observación previa. En esta construcción se tiene un problema en la última observación que debe ser tratado mas adelante."
      ],
      "metadata": {
        "id": "56sLyuHMPAsQ"
      }
    },
    {
      "cell_type": "code",
      "source": [
        "train = data_tris_train[:-104]\n",
        "test = data_tris_train[-104:]"
      ],
      "metadata": {
        "id": "jTuoslPTPQuO"
      },
      "execution_count": 70,
      "outputs": []
    },
    {
      "cell_type": "code",
      "source": [
        "data_tris_train.tail()\n",
        "data_tris_train = data_tris_train.fillna(method='bfill')\n",
        "test = data_tris_train.drop(data_unus_train.tail(1).index) # Drop last row\n",
        "test.head()"
      ],
      "metadata": {
        "id": "ptPN5_umKlmw",
        "colab": {
          "base_uri": "https://localhost:8080/",
          "height": 237
        },
        "outputId": "b503fba4-fc20-419a-ff11-4aa65aa81b5a"
      },
      "execution_count": 71,
      "outputs": [
        {
          "output_type": "execute_result",
          "data": {
            "text/plain": [
              "            sales    y\n",
              "date                  \n",
              "2013-01-01    0.0  0.0\n",
              "2013-01-01    0.0  0.0\n",
              "2013-01-01    0.0  0.0\n",
              "2013-01-01    0.0  0.0\n",
              "2013-01-01    0.0  0.0"
            ],
            "text/html": [
              "\n",
              "  <div id=\"df-d6fcce92-8456-4d7f-9f40-8c4823aee045\">\n",
              "    <div class=\"colab-df-container\">\n",
              "      <div>\n",
              "<style scoped>\n",
              "    .dataframe tbody tr th:only-of-type {\n",
              "        vertical-align: middle;\n",
              "    }\n",
              "\n",
              "    .dataframe tbody tr th {\n",
              "        vertical-align: top;\n",
              "    }\n",
              "\n",
              "    .dataframe thead th {\n",
              "        text-align: right;\n",
              "    }\n",
              "</style>\n",
              "<table border=\"1\" class=\"dataframe\">\n",
              "  <thead>\n",
              "    <tr style=\"text-align: right;\">\n",
              "      <th></th>\n",
              "      <th>sales</th>\n",
              "      <th>y</th>\n",
              "    </tr>\n",
              "    <tr>\n",
              "      <th>date</th>\n",
              "      <th></th>\n",
              "      <th></th>\n",
              "    </tr>\n",
              "  </thead>\n",
              "  <tbody>\n",
              "    <tr>\n",
              "      <th>2013-01-01</th>\n",
              "      <td>0.0</td>\n",
              "      <td>0.0</td>\n",
              "    </tr>\n",
              "    <tr>\n",
              "      <th>2013-01-01</th>\n",
              "      <td>0.0</td>\n",
              "      <td>0.0</td>\n",
              "    </tr>\n",
              "    <tr>\n",
              "      <th>2013-01-01</th>\n",
              "      <td>0.0</td>\n",
              "      <td>0.0</td>\n",
              "    </tr>\n",
              "    <tr>\n",
              "      <th>2013-01-01</th>\n",
              "      <td>0.0</td>\n",
              "      <td>0.0</td>\n",
              "    </tr>\n",
              "    <tr>\n",
              "      <th>2013-01-01</th>\n",
              "      <td>0.0</td>\n",
              "      <td>0.0</td>\n",
              "    </tr>\n",
              "  </tbody>\n",
              "</table>\n",
              "</div>\n",
              "      <button class=\"colab-df-convert\" onclick=\"convertToInteractive('df-d6fcce92-8456-4d7f-9f40-8c4823aee045')\"\n",
              "              title=\"Convert this dataframe to an interactive table.\"\n",
              "              style=\"display:none;\">\n",
              "        \n",
              "  <svg xmlns=\"http://www.w3.org/2000/svg\" height=\"24px\"viewBox=\"0 0 24 24\"\n",
              "       width=\"24px\">\n",
              "    <path d=\"M0 0h24v24H0V0z\" fill=\"none\"/>\n",
              "    <path d=\"M18.56 5.44l.94 2.06.94-2.06 2.06-.94-2.06-.94-.94-2.06-.94 2.06-2.06.94zm-11 1L8.5 8.5l.94-2.06 2.06-.94-2.06-.94L8.5 2.5l-.94 2.06-2.06.94zm10 10l.94 2.06.94-2.06 2.06-.94-2.06-.94-.94-2.06-.94 2.06-2.06.94z\"/><path d=\"M17.41 7.96l-1.37-1.37c-.4-.4-.92-.59-1.43-.59-.52 0-1.04.2-1.43.59L10.3 9.45l-7.72 7.72c-.78.78-.78 2.05 0 2.83L4 21.41c.39.39.9.59 1.41.59.51 0 1.02-.2 1.41-.59l7.78-7.78 2.81-2.81c.8-.78.8-2.07 0-2.86zM5.41 20L4 18.59l7.72-7.72 1.47 1.35L5.41 20z\"/>\n",
              "  </svg>\n",
              "      </button>\n",
              "      \n",
              "  <style>\n",
              "    .colab-df-container {\n",
              "      display:flex;\n",
              "      flex-wrap:wrap;\n",
              "      gap: 12px;\n",
              "    }\n",
              "\n",
              "    .colab-df-convert {\n",
              "      background-color: #E8F0FE;\n",
              "      border: none;\n",
              "      border-radius: 50%;\n",
              "      cursor: pointer;\n",
              "      display: none;\n",
              "      fill: #1967D2;\n",
              "      height: 32px;\n",
              "      padding: 0 0 0 0;\n",
              "      width: 32px;\n",
              "    }\n",
              "\n",
              "    .colab-df-convert:hover {\n",
              "      background-color: #E2EBFA;\n",
              "      box-shadow: 0px 1px 2px rgba(60, 64, 67, 0.3), 0px 1px 3px 1px rgba(60, 64, 67, 0.15);\n",
              "      fill: #174EA6;\n",
              "    }\n",
              "\n",
              "    [theme=dark] .colab-df-convert {\n",
              "      background-color: #3B4455;\n",
              "      fill: #D2E3FC;\n",
              "    }\n",
              "\n",
              "    [theme=dark] .colab-df-convert:hover {\n",
              "      background-color: #434B5C;\n",
              "      box-shadow: 0px 1px 3px 1px rgba(0, 0, 0, 0.15);\n",
              "      filter: drop-shadow(0px 1px 2px rgba(0, 0, 0, 0.3));\n",
              "      fill: #FFFFFF;\n",
              "    }\n",
              "  </style>\n",
              "\n",
              "      <script>\n",
              "        const buttonEl =\n",
              "          document.querySelector('#df-d6fcce92-8456-4d7f-9f40-8c4823aee045 button.colab-df-convert');\n",
              "        buttonEl.style.display =\n",
              "          google.colab.kernel.accessAllowed ? 'block' : 'none';\n",
              "\n",
              "        async function convertToInteractive(key) {\n",
              "          const element = document.querySelector('#df-d6fcce92-8456-4d7f-9f40-8c4823aee045');\n",
              "          const dataTable =\n",
              "            await google.colab.kernel.invokeFunction('convertToInteractive',\n",
              "                                                     [key], {});\n",
              "          if (!dataTable) return;\n",
              "\n",
              "          const docLinkHtml = 'Like what you see? Visit the ' +\n",
              "            '<a target=\"_blank\" href=https://colab.research.google.com/notebooks/data_table.ipynb>data table notebook</a>'\n",
              "            + ' to learn more about interactive tables.';\n",
              "          element.innerHTML = '';\n",
              "          dataTable['output_type'] = 'display_data';\n",
              "          await google.colab.output.renderOutput(dataTable, element);\n",
              "          const docLink = document.createElement('div');\n",
              "          docLink.innerHTML = docLinkHtml;\n",
              "          element.appendChild(docLink);\n",
              "        }\n",
              "      </script>\n",
              "    </div>\n",
              "  </div>\n",
              "  "
            ]
          },
          "metadata": {},
          "execution_count": 71
        }
      ]
    },
    {
      "cell_type": "markdown",
      "source": [
        "Con esto podemos implementar un modelo que predice cada observación con la observación previa. En esta construcción se tiene un problema en la última observación que debe ser tratado mas adelante."
      ],
      "metadata": {
        "id": "JB-nQK3mKecs"
      }
    },
    {
      "cell_type": "markdown",
      "source": [
        "Vamos a implementar dos modelos de regresión, arboles de decisión y un algoritmos de regresión basado en Gradient Boosting. La predicción la agregamos como una columna adicional en el dataframe."
      ],
      "metadata": {
        "id": "AWFL68_kK8C3"
      }
    },
    {
      "cell_type": "code",
      "source": [
        "from sklearn.tree import DecisionTreeRegressor\n",
        "X_train = train['sales'].values.reshape(-1,1)\n",
        "y_train = train['y'].values.reshape(-1,1)\n",
        "X_test = test['sales'].values.reshape(-1,1)\n",
        "y_test = test['y'].values.reshape(-1,1)\n",
        "# Initialize the model\n",
        "dt_reg = DecisionTreeRegressor(random_state=42)\n",
        "# Fit the model\n",
        "dt_reg.fit(X=X_train, y=y_train)\n",
        "# Make predictions\n",
        "dt_pred = dt_reg.predict(X_test)\n",
        "# Assign predictions to a new column in test\n",
        "test['dt_pred'] = dt_pred"
      ],
      "metadata": {
        "id": "6bQzH9zfLIEs"
      },
      "execution_count": 72,
      "outputs": []
    },
    {
      "cell_type": "code",
      "source": [
        "from sklearn.ensemble import GradientBoostingRegressor\n",
        "gbr = GradientBoostingRegressor(random_state=42)\n",
        "gbr.fit(X_train, y=y_train.ravel())\n",
        "gbr_pred = gbr.predict(X_test)\n",
        "test['gbr_pred'] = gbr_pred"
      ],
      "metadata": {
        "id": "PHCeTlKNLNo4"
      },
      "execution_count": 73,
      "outputs": []
    },
    {
      "cell_type": "markdown",
      "source": [
        "Con el fin de tener una comparación, vamos a agregar una columna de base o referencia donde la predicción es igual a la entrada:"
      ],
      "metadata": {
        "id": "1JS53G1cLXfc"
      }
    },
    {
      "cell_type": "code",
      "source": [
        "test = test.copy()\n",
        "test['baseline_pred'] = test['sales']"
      ],
      "metadata": {
        "id": "BjSjPo5uLdxd"
      },
      "execution_count": 75,
      "outputs": []
    },
    {
      "cell_type": "code",
      "source": [
        "test"
      ],
      "metadata": {
        "colab": {
          "base_uri": "https://localhost:8080/",
          "height": 455
        },
        "id": "lXtvuFg-Pex_",
        "outputId": "3430d6d3-1a8a-4199-f99c-c9d26c5b8844"
      },
      "execution_count": 76,
      "outputs": [
        {
          "output_type": "execute_result",
          "data": {
            "text/plain": [
              "               sales         y       dt_pred     gbr_pred  baseline_pred\n",
              "date                                                                    \n",
              "2013-01-01     0.000     0.000    164.184394   165.817932          0.000\n",
              "2013-01-01     0.000     0.000    164.184394   165.817932          0.000\n",
              "2013-01-01     0.000     0.000    164.184394   165.817932          0.000\n",
              "2013-01-01     0.000     0.000    164.184394   165.817932          0.000\n",
              "2013-01-01     0.000     0.000    164.184394   165.817932          0.000\n",
              "...              ...       ...           ...          ...            ...\n",
              "2017-08-14   585.615  2332.902  11159.523000  2523.423081        585.615\n",
              "2017-08-14  2332.902  5838.443   3459.569000  2416.894276       2332.902\n",
              "2017-08-14  5838.443  4417.428   5165.926000  2545.186598       5838.443\n",
              "2017-08-14  4417.428  1348.425   1343.387000  2614.028980       4417.428\n",
              "2017-08-14  1348.425  2240.230   3474.502000  2142.114856       1348.425\n",
              "\n",
              "[90882 rows x 5 columns]"
            ],
            "text/html": [
              "\n",
              "  <div id=\"df-35031ce8-5380-4a8a-a64c-066cf616efe5\">\n",
              "    <div class=\"colab-df-container\">\n",
              "      <div>\n",
              "<style scoped>\n",
              "    .dataframe tbody tr th:only-of-type {\n",
              "        vertical-align: middle;\n",
              "    }\n",
              "\n",
              "    .dataframe tbody tr th {\n",
              "        vertical-align: top;\n",
              "    }\n",
              "\n",
              "    .dataframe thead th {\n",
              "        text-align: right;\n",
              "    }\n",
              "</style>\n",
              "<table border=\"1\" class=\"dataframe\">\n",
              "  <thead>\n",
              "    <tr style=\"text-align: right;\">\n",
              "      <th></th>\n",
              "      <th>sales</th>\n",
              "      <th>y</th>\n",
              "      <th>dt_pred</th>\n",
              "      <th>gbr_pred</th>\n",
              "      <th>baseline_pred</th>\n",
              "    </tr>\n",
              "    <tr>\n",
              "      <th>date</th>\n",
              "      <th></th>\n",
              "      <th></th>\n",
              "      <th></th>\n",
              "      <th></th>\n",
              "      <th></th>\n",
              "    </tr>\n",
              "  </thead>\n",
              "  <tbody>\n",
              "    <tr>\n",
              "      <th>2013-01-01</th>\n",
              "      <td>0.000</td>\n",
              "      <td>0.000</td>\n",
              "      <td>164.184394</td>\n",
              "      <td>165.817932</td>\n",
              "      <td>0.000</td>\n",
              "    </tr>\n",
              "    <tr>\n",
              "      <th>2013-01-01</th>\n",
              "      <td>0.000</td>\n",
              "      <td>0.000</td>\n",
              "      <td>164.184394</td>\n",
              "      <td>165.817932</td>\n",
              "      <td>0.000</td>\n",
              "    </tr>\n",
              "    <tr>\n",
              "      <th>2013-01-01</th>\n",
              "      <td>0.000</td>\n",
              "      <td>0.000</td>\n",
              "      <td>164.184394</td>\n",
              "      <td>165.817932</td>\n",
              "      <td>0.000</td>\n",
              "    </tr>\n",
              "    <tr>\n",
              "      <th>2013-01-01</th>\n",
              "      <td>0.000</td>\n",
              "      <td>0.000</td>\n",
              "      <td>164.184394</td>\n",
              "      <td>165.817932</td>\n",
              "      <td>0.000</td>\n",
              "    </tr>\n",
              "    <tr>\n",
              "      <th>2013-01-01</th>\n",
              "      <td>0.000</td>\n",
              "      <td>0.000</td>\n",
              "      <td>164.184394</td>\n",
              "      <td>165.817932</td>\n",
              "      <td>0.000</td>\n",
              "    </tr>\n",
              "    <tr>\n",
              "      <th>...</th>\n",
              "      <td>...</td>\n",
              "      <td>...</td>\n",
              "      <td>...</td>\n",
              "      <td>...</td>\n",
              "      <td>...</td>\n",
              "    </tr>\n",
              "    <tr>\n",
              "      <th>2017-08-14</th>\n",
              "      <td>585.615</td>\n",
              "      <td>2332.902</td>\n",
              "      <td>11159.523000</td>\n",
              "      <td>2523.423081</td>\n",
              "      <td>585.615</td>\n",
              "    </tr>\n",
              "    <tr>\n",
              "      <th>2017-08-14</th>\n",
              "      <td>2332.902</td>\n",
              "      <td>5838.443</td>\n",
              "      <td>3459.569000</td>\n",
              "      <td>2416.894276</td>\n",
              "      <td>2332.902</td>\n",
              "    </tr>\n",
              "    <tr>\n",
              "      <th>2017-08-14</th>\n",
              "      <td>5838.443</td>\n",
              "      <td>4417.428</td>\n",
              "      <td>5165.926000</td>\n",
              "      <td>2545.186598</td>\n",
              "      <td>5838.443</td>\n",
              "    </tr>\n",
              "    <tr>\n",
              "      <th>2017-08-14</th>\n",
              "      <td>4417.428</td>\n",
              "      <td>1348.425</td>\n",
              "      <td>1343.387000</td>\n",
              "      <td>2614.028980</td>\n",
              "      <td>4417.428</td>\n",
              "    </tr>\n",
              "    <tr>\n",
              "      <th>2017-08-14</th>\n",
              "      <td>1348.425</td>\n",
              "      <td>2240.230</td>\n",
              "      <td>3474.502000</td>\n",
              "      <td>2142.114856</td>\n",
              "      <td>1348.425</td>\n",
              "    </tr>\n",
              "  </tbody>\n",
              "</table>\n",
              "<p>90882 rows × 5 columns</p>\n",
              "</div>\n",
              "      <button class=\"colab-df-convert\" onclick=\"convertToInteractive('df-35031ce8-5380-4a8a-a64c-066cf616efe5')\"\n",
              "              title=\"Convert this dataframe to an interactive table.\"\n",
              "              style=\"display:none;\">\n",
              "        \n",
              "  <svg xmlns=\"http://www.w3.org/2000/svg\" height=\"24px\"viewBox=\"0 0 24 24\"\n",
              "       width=\"24px\">\n",
              "    <path d=\"M0 0h24v24H0V0z\" fill=\"none\"/>\n",
              "    <path d=\"M18.56 5.44l.94 2.06.94-2.06 2.06-.94-2.06-.94-.94-2.06-.94 2.06-2.06.94zm-11 1L8.5 8.5l.94-2.06 2.06-.94-2.06-.94L8.5 2.5l-.94 2.06-2.06.94zm10 10l.94 2.06.94-2.06 2.06-.94-2.06-.94-.94-2.06-.94 2.06-2.06.94z\"/><path d=\"M17.41 7.96l-1.37-1.37c-.4-.4-.92-.59-1.43-.59-.52 0-1.04.2-1.43.59L10.3 9.45l-7.72 7.72c-.78.78-.78 2.05 0 2.83L4 21.41c.39.39.9.59 1.41.59.51 0 1.02-.2 1.41-.59l7.78-7.78 2.81-2.81c.8-.78.8-2.07 0-2.86zM5.41 20L4 18.59l7.72-7.72 1.47 1.35L5.41 20z\"/>\n",
              "  </svg>\n",
              "      </button>\n",
              "      \n",
              "  <style>\n",
              "    .colab-df-container {\n",
              "      display:flex;\n",
              "      flex-wrap:wrap;\n",
              "      gap: 12px;\n",
              "    }\n",
              "\n",
              "    .colab-df-convert {\n",
              "      background-color: #E8F0FE;\n",
              "      border: none;\n",
              "      border-radius: 50%;\n",
              "      cursor: pointer;\n",
              "      display: none;\n",
              "      fill: #1967D2;\n",
              "      height: 32px;\n",
              "      padding: 0 0 0 0;\n",
              "      width: 32px;\n",
              "    }\n",
              "\n",
              "    .colab-df-convert:hover {\n",
              "      background-color: #E2EBFA;\n",
              "      box-shadow: 0px 1px 2px rgba(60, 64, 67, 0.3), 0px 1px 3px 1px rgba(60, 64, 67, 0.15);\n",
              "      fill: #174EA6;\n",
              "    }\n",
              "\n",
              "    [theme=dark] .colab-df-convert {\n",
              "      background-color: #3B4455;\n",
              "      fill: #D2E3FC;\n",
              "    }\n",
              "\n",
              "    [theme=dark] .colab-df-convert:hover {\n",
              "      background-color: #434B5C;\n",
              "      box-shadow: 0px 1px 3px 1px rgba(0, 0, 0, 0.15);\n",
              "      filter: drop-shadow(0px 1px 2px rgba(0, 0, 0, 0.3));\n",
              "      fill: #FFFFFF;\n",
              "    }\n",
              "  </style>\n",
              "\n",
              "      <script>\n",
              "        const buttonEl =\n",
              "          document.querySelector('#df-35031ce8-5380-4a8a-a64c-066cf616efe5 button.colab-df-convert');\n",
              "        buttonEl.style.display =\n",
              "          google.colab.kernel.accessAllowed ? 'block' : 'none';\n",
              "\n",
              "        async function convertToInteractive(key) {\n",
              "          const element = document.querySelector('#df-35031ce8-5380-4a8a-a64c-066cf616efe5');\n",
              "          const dataTable =\n",
              "            await google.colab.kernel.invokeFunction('convertToInteractive',\n",
              "                                                     [key], {});\n",
              "          if (!dataTable) return;\n",
              "\n",
              "          const docLinkHtml = 'Like what you see? Visit the ' +\n",
              "            '<a target=\"_blank\" href=https://colab.research.google.com/notebooks/data_table.ipynb>data table notebook</a>'\n",
              "            + ' to learn more about interactive tables.';\n",
              "          element.innerHTML = '';\n",
              "          dataTable['output_type'] = 'display_data';\n",
              "          await google.colab.output.renderOutput(dataTable, element);\n",
              "          const docLink = document.createElement('div');\n",
              "          docLink.innerHTML = docLinkHtml;\n",
              "          element.appendChild(docLink);\n",
              "        }\n",
              "      </script>\n",
              "    </div>\n",
              "  </div>\n",
              "  "
            ]
          },
          "metadata": {},
          "execution_count": 76
        }
      ]
    },
    {
      "cell_type": "code",
      "source": [
        "baseline_mape = mape(test['y'], test['baseline_pred'])\n",
        "dt_mape = mape(test['y'], test['dt_pred'])\n",
        "gbr_mape = mape(test['sales'], test['gbr_pred'])\n",
        "# Generate bar plot\n",
        "fig, ax = plt.subplots(figsize=(7, 5))\n",
        "x = ['Baseline', 'Decision Tree', 'Gradient Boosting']\n",
        "y = [baseline_mape, dt_mape, gbr_mape]\n",
        "ax.bar(x, y, width=0.4)\n",
        "ax.set_xlabel('Regressor models')\n",
        "ax.set_ylabel('MAPE (%)')\n",
        "ax.set_ylim(0, 0.3)\n",
        "for index, value in enumerate(y):\n",
        "    plt.text(x=index, y=value + 0.02, s=str(value), ha='center')\n",
        "    \n",
        "plt.tight_layout()"
      ],
      "metadata": {
        "id": "iID5vOViLk3C",
        "colab": {
          "base_uri": "https://localhost:8080/",
          "height": 670
        },
        "outputId": "98092687-2d95-4377-a8b0-8e726d46e01e"
      },
      "execution_count": 78,
      "outputs": [
        {
          "output_type": "stream",
          "name": "stderr",
          "text": [
            "WARNING:matplotlib.text:posx and posy should be finite values\n",
            "WARNING:matplotlib.text:posx and posy should be finite values\n",
            "WARNING:matplotlib.text:posx and posy should be finite values\n",
            "WARNING:matplotlib.text:posx and posy should be finite values\n",
            "WARNING:matplotlib.text:posx and posy should be finite values\n",
            "WARNING:matplotlib.text:posx and posy should be finite values\n",
            "WARNING:matplotlib.text:posx and posy should be finite values\n",
            "WARNING:matplotlib.text:posx and posy should be finite values\n",
            "WARNING:matplotlib.text:posx and posy should be finite values\n"
          ]
        },
        {
          "output_type": "display_data",
          "data": {
            "text/plain": [
              "<Figure size 700x500 with 1 Axes>"
            ],
            "image/png": "[encoded data removed]"
          },
          "metadata": {}
        }
      ]
    },
    {
      "cell_type": "code",
      "source": [
        "from sklearn.metrics import r2_score\n",
        "baseline_r2 = r2_score(test['y'], test['baseline_pred'])\n",
        "dt_r2 = r2_score(test['y'], test['dt_pred'])\n",
        "gbr_r2 = r2_score(test['sales'], test['gbr_pred'])\n",
        "# Generate bar plot\n",
        "fig, ax = plt.subplots(figsize=(7, 5))\n",
        "x = ['Baseline', 'Decision Tree', 'Gradient Boosting']\n",
        "y = [baseline_r2, dt_r2, gbr_r2]\n",
        "ax.bar(x, y, width=0.4)\n",
        "ax.set_xlabel('Regressor models')\n",
        "ax.set_ylabel('R2 (%)')\n",
        "ax.set_ylim(0, 0.99)\n",
        "for index, value in enumerate(y):\n",
        "    plt.text(x=index, y=value + 0.02, s=str(value), ha='center')\n",
        "    \n",
        "plt.tight_layout()"
      ],
      "metadata": {
        "id": "aj67qxqQLuRz",
        "colab": {
          "base_uri": "https://localhost:8080/",
          "height": 508
        },
        "outputId": "f72d480b-91df-432c-c9e7-6a7c4b761b66"
      },
      "execution_count": 80,
      "outputs": [
        {
          "output_type": "display_data",
          "data": {
            "text/plain": [
              "<Figure size 700x500 with 1 Axes>"
            ],
            "image/png": "[encoded data removed]"
          },
          "metadata": {}
        }
      ]
    },
    {
      "cell_type": "markdown",
      "source": [
        "Revisamos las métricas"
      ],
      "metadata": {
        "id": "FGznqp-pO4yX"
      }
    },
    {
      "cell_type": "code",
      "source": [
        "baseline_mape = mape(y_test, baseline_pred)\n",
        "dt_5_mape = mape(y_test, dt_reg_5_pred)\n",
        "gbr_5_mape = mape(y_test, gbr_5_pred)\n",
        "# Generate the bar plot\n",
        "fig, ax = plt.subplots()\n",
        "\n",
        "x = ['Baseline', 'Decision Tree', 'Gradient Boosting']\n",
        "y = [baseline_mape, dt_5_mape, gbr_5_mape]\n",
        "\n",
        "ax.bar(x, y, width=0.4)\n",
        "ax.set_xlabel('Regressor models')\n",
        "ax.set_ylabel('MAPE (%)')\n",
        "#ax.set_ylim(0, 5)\n",
        "\n",
        "for index, value in enumerate(y):\n",
        "    plt.text(x=index, y=value + 0.1, s=str(value), ha='center')\n",
        "    \n",
        "plt.tight_layout()"
      ],
      "metadata": {
        "id": "NcMfnGWjO7DE",
        "colab": {
          "base_uri": "https://localhost:8080/",
          "height": 688
        },
        "outputId": "2a53e2f2-d9ab-4004-f73c-2f36209a541d"
      },
      "execution_count": 81,
      "outputs": [
        {
          "output_type": "stream",
          "name": "stderr",
          "text": [
            "<ipython-input-20-4f8c6fe9f5d7>:2: RuntimeWarning: divide by zero encountered in true_divide\n",
            "  return round(np.mean(np.abs((y_true - y_pred) / y_true)) * 100, 2)\n",
            "WARNING:matplotlib.text:posx and posy should be finite values\n",
            "WARNING:matplotlib.text:posx and posy should be finite values\n",
            "WARNING:matplotlib.text:posx and posy should be finite values\n",
            "WARNING:matplotlib.text:posx and posy should be finite values\n",
            "WARNING:matplotlib.text:posx and posy should be finite values\n",
            "WARNING:matplotlib.text:posx and posy should be finite values\n",
            "WARNING:matplotlib.text:posx and posy should be finite values\n",
            "WARNING:matplotlib.text:posx and posy should be finite values\n",
            "WARNING:matplotlib.text:posx and posy should be finite values\n"
          ]
        },
        {
          "output_type": "display_data",
          "data": {
            "text/plain": [
              "<Figure size 640x480 with 1 Axes>"
            ],
            "image/png": "[encoded data removed]"
          },
          "metadata": {}
        }
      ]
    },
    {
      "cell_type": "markdown",
      "source": [
        "##Predicción utilizando una secuencia de valores pasados:"
      ],
      "metadata": {
        "id": "vtNDshfyOLES"
      }
    },
    {
      "cell_type": "code",
      "source": [
        "new_df = window_input(10, data_tris_train)"
      ],
      "metadata": {
        "id": "eEbB1atPOSNz"
      },
      "execution_count": 83,
      "outputs": []
    },
    {
      "cell_type": "code",
      "source": [
        "from sklearn.model_selection import train_test_split\n",
        "\n",
        "X = new_df.drop('y',axis=1).values\n",
        "y = new_df['y'].values\n",
        "\n",
        "X_train, X_test, y_train, y_test = train_test_split(X, y, test_size=0.3, random_state=42, shuffle=False)"
      ],
      "metadata": {
        "id": "ffnh4er1OXmf"
      },
      "execution_count": 84,
      "outputs": []
    },
    {
      "cell_type": "code",
      "source": [
        "baseline_pred = []\n",
        "\n",
        "for row in X_test:\n",
        "    baseline_pred.append(np.mean(row))"
      ],
      "metadata": {
        "id": "TSwXGGU7OdeB"
      },
      "execution_count": 85,
      "outputs": []
    },
    {
      "cell_type": "code",
      "source": [
        "gbr_5 = GradientBoostingRegressor(random_state=42)\n",
        "\n",
        "gbr_5.fit(X_train, y_train.ravel())\n",
        "\n",
        "gbr_5_pred = gbr_5.predict(X_test)"
      ],
      "metadata": {
        "id": "h8KXAhypOjpY"
      },
      "execution_count": 86,
      "outputs": []
    },
    {
      "cell_type": "markdown",
      "source": [
        "Revisamos las métricas"
      ],
      "metadata": {
        "id": "uIIyLwfnOtHw"
      }
    },
    {
      "cell_type": "code",
      "source": [
        "baseline_mape = mape(y_test, baseline_pred)\n",
        "dt_5_mape = mape(y_test, dt_reg_5_pred)\n",
        "gbr_5_mape = mape(y_test, gbr_5_pred)\n",
        "# Generate the bar plot\n",
        "fig, ax = plt.subplots()\n",
        "\n",
        "x = ['Baseline', 'Decision Tree', 'Gradient Boosting']\n",
        "y = [baseline_mape, dt_5_mape, gbr_5_mape]\n",
        "\n",
        "ax.bar(x, y, width=0.4)\n",
        "ax.set_xlabel('Regressor models')\n",
        "ax.set_ylabel('MAPE (%)')\n",
        "#ax.set_ylim(0, 5)\n",
        "\n",
        "for index, value in enumerate(y):\n",
        "    plt.text(x=index, y=value + 0.1, s=str(value), ha='center')\n",
        "    \n",
        "plt.tight_layout()"
      ],
      "metadata": {
        "id": "zD5o0EsuOvWV",
        "colab": {
          "base_uri": "https://localhost:8080/",
          "height": 487
        },
        "outputId": "873a9e13-71d5-467b-f329-0438d2e9344d"
      },
      "execution_count": 87,
      "outputs": [
        {
          "output_type": "display_data",
          "data": {
            "text/plain": [
              "<Figure size 640x480 with 1 Axes>"
            ],
            "image/png": "[encoded data removed]"
          },
          "metadata": {}
        }
      ]
    }
  ]
}